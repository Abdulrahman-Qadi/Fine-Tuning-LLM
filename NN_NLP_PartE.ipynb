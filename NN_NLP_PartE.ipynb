{
  "cells": [
    {
      "cell_type": "markdown",
      "metadata": {
        "id": "2TvyemfDlDmu"
      },
      "source": [
        "# Summarisation and Controlled Text Generation with T-5\n",
        "\n",
        "In this notebook, we will see how to fine-tune one of the [HuggingFace Transformers](https://github.com/huggingface/transformers) model (T5) for the summarisation task and the task of controlled text generation with keywords. We will use the [XSum dataset](https://arxiv.org/pdf/1808.08745.pdf) (for extreme summarisation) which contains long BBC articles and their single-sentence summaries.\n",
        "\n",
        "[T5](https://paperswithcode.com/method/t5) is a popular model, which is designed as a text-to-text multi-task model. For each task, both input and output is text (so that for a regression task, a number 2.5 becomes a string \"2.5\"). Hence we can use the same model for a range of tasks including translation, linguistic acceptability, sentence similarity, document summarisation (our case), etc.\n",
        "\n",
        "We will start by installing 🤗 Huggingface Transformers and 🤗 Huggingface Datasets as well as other dependencies.\n",
        "\n",
        "Much of our code is based on the [official tutorial](https://colab.research.google.com/github/huggingface/notebooks/blob/main/examples/summarization-tf.ipynb)."
      ]
    },
    {
      "cell_type": "code",
      "execution_count": 72,
      "metadata": {
        "colab": {
          "base_uri": "https://localhost:8080/"
        },
        "id": "Xw5fAhQCXj5A",
        "outputId": "e6a3a5d4-877e-475e-ec60-4b49a4e84cbc"
      },
      "outputs": [
        {
          "output_type": "stream",
          "name": "stdout",
          "text": [
            "Requirement already satisfied: transformers in /usr/local/lib/python3.10/dist-packages (4.37.2)\n",
            "Requirement already satisfied: datasets in /usr/local/lib/python3.10/dist-packages (2.17.1)\n",
            "Requirement already satisfied: filelock in /usr/local/lib/python3.10/dist-packages (from transformers) (3.13.1)\n",
            "Requirement already satisfied: huggingface-hub<1.0,>=0.19.3 in /usr/local/lib/python3.10/dist-packages (from transformers) (0.20.3)\n",
            "Requirement already satisfied: numpy>=1.17 in /usr/local/lib/python3.10/dist-packages (from transformers) (1.25.2)\n",
            "Requirement already satisfied: packaging>=20.0 in /usr/local/lib/python3.10/dist-packages (from transformers) (23.2)\n",
            "Requirement already satisfied: pyyaml>=5.1 in /usr/local/lib/python3.10/dist-packages (from transformers) (6.0.1)\n",
            "Requirement already satisfied: regex!=2019.12.17 in /usr/local/lib/python3.10/dist-packages (from transformers) (2023.12.25)\n",
            "Requirement already satisfied: requests in /usr/local/lib/python3.10/dist-packages (from transformers) (2.31.0)\n",
            "Requirement already satisfied: tokenizers<0.19,>=0.14 in /usr/local/lib/python3.10/dist-packages (from transformers) (0.15.2)\n",
            "Requirement already satisfied: safetensors>=0.4.1 in /usr/local/lib/python3.10/dist-packages (from transformers) (0.4.2)\n",
            "Requirement already satisfied: tqdm>=4.27 in /usr/local/lib/python3.10/dist-packages (from transformers) (4.66.2)\n",
            "Requirement already satisfied: pyarrow>=12.0.0 in /usr/local/lib/python3.10/dist-packages (from datasets) (14.0.2)\n",
            "Requirement already satisfied: pyarrow-hotfix in /usr/local/lib/python3.10/dist-packages (from datasets) (0.6)\n",
            "Requirement already satisfied: dill<0.3.9,>=0.3.0 in /usr/local/lib/python3.10/dist-packages (from datasets) (0.3.8)\n",
            "Requirement already satisfied: pandas in /usr/local/lib/python3.10/dist-packages (from datasets) (1.5.3)\n",
            "Requirement already satisfied: xxhash in /usr/local/lib/python3.10/dist-packages (from datasets) (3.4.1)\n",
            "Requirement already satisfied: multiprocess in /usr/local/lib/python3.10/dist-packages (from datasets) (0.70.16)\n",
            "Requirement already satisfied: fsspec[http]<=2023.10.0,>=2023.1.0 in /usr/local/lib/python3.10/dist-packages (from datasets) (2023.6.0)\n",
            "Requirement already satisfied: aiohttp in /usr/local/lib/python3.10/dist-packages (from datasets) (3.9.3)\n",
            "Requirement already satisfied: aiosignal>=1.1.2 in /usr/local/lib/python3.10/dist-packages (from aiohttp->datasets) (1.3.1)\n",
            "Requirement already satisfied: attrs>=17.3.0 in /usr/local/lib/python3.10/dist-packages (from aiohttp->datasets) (23.2.0)\n",
            "Requirement already satisfied: frozenlist>=1.1.1 in /usr/local/lib/python3.10/dist-packages (from aiohttp->datasets) (1.4.1)\n",
            "Requirement already satisfied: multidict<7.0,>=4.5 in /usr/local/lib/python3.10/dist-packages (from aiohttp->datasets) (6.0.5)\n",
            "Requirement already satisfied: yarl<2.0,>=1.0 in /usr/local/lib/python3.10/dist-packages (from aiohttp->datasets) (1.9.4)\n",
            "Requirement already satisfied: async-timeout<5.0,>=4.0 in /usr/local/lib/python3.10/dist-packages (from aiohttp->datasets) (4.0.3)\n",
            "Requirement already satisfied: typing-extensions>=3.7.4.3 in /usr/local/lib/python3.10/dist-packages (from huggingface-hub<1.0,>=0.19.3->transformers) (4.9.0)\n",
            "Requirement already satisfied: charset-normalizer<4,>=2 in /usr/local/lib/python3.10/dist-packages (from requests->transformers) (3.3.2)\n",
            "Requirement already satisfied: idna<4,>=2.5 in /usr/local/lib/python3.10/dist-packages (from requests->transformers) (3.6)\n",
            "Requirement already satisfied: urllib3<3,>=1.21.1 in /usr/local/lib/python3.10/dist-packages (from requests->transformers) (2.0.7)\n",
            "Requirement already satisfied: certifi>=2017.4.17 in /usr/local/lib/python3.10/dist-packages (from requests->transformers) (2024.2.2)\n",
            "Requirement already satisfied: python-dateutil>=2.8.1 in /usr/local/lib/python3.10/dist-packages (from pandas->datasets) (2.8.2)\n",
            "Requirement already satisfied: pytz>=2020.1 in /usr/local/lib/python3.10/dist-packages (from pandas->datasets) (2023.4)\n",
            "Requirement already satisfied: six>=1.5 in /usr/local/lib/python3.10/dist-packages (from python-dateutil>=2.8.1->pandas->datasets) (1.16.0)\n",
            "Requirement already satisfied: rouge-score in /usr/local/lib/python3.10/dist-packages (0.1.2)\n",
            "Requirement already satisfied: nltk in /usr/local/lib/python3.10/dist-packages (3.8.1)\n",
            "Requirement already satisfied: absl-py in /usr/local/lib/python3.10/dist-packages (from rouge-score) (1.4.0)\n",
            "Requirement already satisfied: numpy in /usr/local/lib/python3.10/dist-packages (from rouge-score) (1.25.2)\n",
            "Requirement already satisfied: six>=1.14.0 in /usr/local/lib/python3.10/dist-packages (from rouge-score) (1.16.0)\n",
            "Requirement already satisfied: click in /usr/local/lib/python3.10/dist-packages (from nltk) (8.1.7)\n",
            "Requirement already satisfied: joblib in /usr/local/lib/python3.10/dist-packages (from nltk) (1.3.2)\n",
            "Requirement already satisfied: regex>=2021.8.3 in /usr/local/lib/python3.10/dist-packages (from nltk) (2023.12.25)\n",
            "Requirement already satisfied: tqdm in /usr/local/lib/python3.10/dist-packages (from nltk) (4.66.2)\n",
            "Requirement already satisfied: huggingface_hub in /usr/local/lib/python3.10/dist-packages (0.20.3)\n",
            "Requirement already satisfied: filelock in /usr/local/lib/python3.10/dist-packages (from huggingface_hub) (3.13.1)\n",
            "Requirement already satisfied: fsspec>=2023.5.0 in /usr/local/lib/python3.10/dist-packages (from huggingface_hub) (2023.6.0)\n",
            "Requirement already satisfied: requests in /usr/local/lib/python3.10/dist-packages (from huggingface_hub) (2.31.0)\n",
            "Requirement already satisfied: tqdm>=4.42.1 in /usr/local/lib/python3.10/dist-packages (from huggingface_hub) (4.66.2)\n",
            "Requirement already satisfied: pyyaml>=5.1 in /usr/local/lib/python3.10/dist-packages (from huggingface_hub) (6.0.1)\n",
            "Requirement already satisfied: typing-extensions>=3.7.4.3 in /usr/local/lib/python3.10/dist-packages (from huggingface_hub) (4.9.0)\n",
            "Requirement already satisfied: packaging>=20.9 in /usr/local/lib/python3.10/dist-packages (from huggingface_hub) (23.2)\n",
            "Requirement already satisfied: charset-normalizer<4,>=2 in /usr/local/lib/python3.10/dist-packages (from requests->huggingface_hub) (3.3.2)\n",
            "Requirement already satisfied: idna<4,>=2.5 in /usr/local/lib/python3.10/dist-packages (from requests->huggingface_hub) (3.6)\n",
            "Requirement already satisfied: urllib3<3,>=1.21.1 in /usr/local/lib/python3.10/dist-packages (from requests->huggingface_hub) (2.0.7)\n",
            "Requirement already satisfied: certifi>=2017.4.17 in /usr/local/lib/python3.10/dist-packages (from requests->huggingface_hub) (2024.2.2)\n"
          ]
        }
      ],
      "source": [
        "! pip install transformers datasets\n",
        "! pip install rouge-score nltk\n",
        "! pip install huggingface_hub"
      ]
    },
    {
      "cell_type": "markdown",
      "metadata": {
        "id": "0g08e5MldFMf"
      },
      "source": [
        "## Loading the Dataset\n",
        "\n",
        "\n"
      ]
    },
    {
      "cell_type": "markdown",
      "metadata": {
        "id": "W7QYTpxXIrIl"
      },
      "source": [
        "We will use the [HuggingFace Datasets](https://github.com/huggingface/datasets) library to download the data. This a very good resource for easy manipulation of commonly used datasets."
      ]
    },
    {
      "cell_type": "code",
      "execution_count": 73,
      "metadata": {
        "id": "IreSlFmlIrIm"
      },
      "outputs": [],
      "source": [
        "from datasets import list_datasets, load_dataset\n",
        "\n",
        "# If the training time is too much and you do not have GPU / TPU then uncomment the below line and re-run the notebook\n",
        "# Note that here we are reducing the size of the dataset hence the values are going to be different then what you will see when you run it on full dataset\n",
        "# original_datasets = load_dataset(\"xsum\", trust_remote_code=True, split=\"validation[:2%]\")\n",
        "original_datasets = load_dataset(\"xsum\", trust_remote_code=True, split=\"validation[:10%]\")"
      ]
    },
    {
      "cell_type": "markdown",
      "metadata": {
        "id": "smMCo7b62gp6"
      },
      "source": [
        "We will further create a train and a validation set by splitting the original validation set."
      ]
    },
    {
      "cell_type": "code",
      "execution_count": 74,
      "metadata": {
        "id": "Nu-9IzBI9Kl6"
      },
      "outputs": [],
      "source": [
        "import datasets as ds\n",
        "\n",
        "# We will use only the validation set due to the lack of computational resources\n",
        "# Split the initial validation set\n",
        "train_valid = original_datasets.train_test_split(test_size=0.25)\n",
        "\n",
        "# Gather the sets into a single DatasetDict\n",
        "raw_datasets = ds.DatasetDict({'train': train_valid['train'], 'validation': train_valid['test']})"
      ]
    },
    {
      "cell_type": "code",
      "execution_count": 75,
      "metadata": {
        "colab": {
          "base_uri": "https://localhost:8080/"
        },
        "id": "jTN5a1uK5qjY",
        "outputId": "5dbffdad-721b-4086-8ec5-873d7228199e"
      },
      "outputs": [
        {
          "output_type": "stream",
          "name": "stdout",
          "text": [
            "{'document': 'Mr LaBeouf was arrested following a confrontation at his live-streamed video project in New York, and was charged with assault and harassment.\\nThose charges have now been dropped.\\nA spokeswoman for the district attorney in New York\\'s Queen\\'s district told US media the case would be dismissed because of insufficient evidence.\\nMr LaBeouf\\'s art project, a 24-hour live stream called He Will Not Divide Us, encouraged members of the public to say those words into a camera outside New York\\'s Museum of the Moving Image.\\nBut Mr LaBeouf and a member of the public allegedly entered an altercation during a live broadcast in January.  The museum later said the site had become \"a flashpoint for violence\".\\nThe live stream was planned to continue for the four years of Mr Trump\\'s presidency, but the museum pulled support for the project in early February.\\nThe project was forced to move location twice in the US, after opponents tried to disrupt it.\\nIt then arrived in a new form in Liverpool in the UK - but faced similar problems.\\nLiverpool\\'s Fact arts centre had been live-streaming a flag with the words, but cancelled the project after people climbed on the roof to try and remove the flag.\\nIn addition to his performance art, LaBeouf is best known for films like Transformers, Indiana Jones and the Kingdom of the Crystal Skull and Wall Street: Money Never Sleeps.', 'summary': 'Actor-turned-artist Shia LaBeouf will no longer face assault charges over a January incident at his anti-Donald Trump art installation.', 'id': '39462526'}\n"
          ]
        }
      ],
      "source": [
        "print(raw_datasets[\"train\"][0])"
      ]
    },
    {
      "cell_type": "markdown",
      "metadata": {
        "id": "n8vO_aVMaWdP"
      },
      "source": [
        "### Some Data Analysis"
      ]
    },
    {
      "cell_type": "markdown",
      "metadata": {
        "id": "WHUmphG3IrI3"
      },
      "source": [
        "Here we will perform some basic exploratory data analysis by computing the mean and standard deviation of token counts for the source and target documents.\n",
        "\n",
        "The `show_random_elements` method below displays a table containing `num_examples` samples from the specified `dataset`, with fields `document`, `summary` and `id`\n",
        "\n",
        "**Task 1: Summarisation data statistics**\n",
        "\n",
        "Complete the functions below by tokenising the documents (the best option would be to use the tokeniser but here you can just split on spaces) and print the mean token count and standard deviation for source and target documents for each dataset. Plot histograms of the source and target token counts (method `show_token_counts` is provided). Comment on the lengths of input and target texts for summarisation."
      ]
    },
    {
      "cell_type": "code",
      "execution_count": 76,
      "metadata": {
        "id": "i3j8APAoIrI3",
        "colab": {
          "base_uri": "https://localhost:8080/",
          "height": 1000
        },
        "outputId": "c54ed7a8-df73-4e7e-f15a-433e6741baef"
      },
      "outputs": [
        {
          "output_type": "display_data",
          "data": {
            "text/plain": [
              "<IPython.core.display.HTML object>"
            ],
            "text/html": [
              "<table border=\"1\" class=\"dataframe\">\n",
              "  <thead>\n",
              "    <tr style=\"text-align: right;\">\n",
              "      <th></th>\n",
              "      <th>document</th>\n",
              "      <th>summary</th>\n",
              "      <th>id</th>\n",
              "    </tr>\n",
              "  </thead>\n",
              "  <tbody>\n",
              "    <tr>\n",
              "      <th>0</th>\n",
              "      <td>In February, clubs agreed \"in principle\" to use the system from next season and those plans were confirmed at an EGM on 6 April.\\nGoalline technology has been used in the Premier League since 2013.\\nIt has also been utilised in previous Football League play-off finals.\\nHowever, this season the technology will be available for both Championship semi-finals, as well as the final at Wembley on Monday, 29 May.\\n\"The introduction of goalline technology is a significant step forward for Championship clubs and reflects the importance of the outcome of every single game in the division,\" said EFL chief executive Shaun Harvey.\\n\"It has already proved successful elsewhere in our competitions and I'm confident it will have a similar positive impact week in, week out in the Championship, starting with this year's Championship play-off semi-finals.\"</td>\n",
              "      <td>Goalline technology will be used in this season's Championship play-offs before being introduced in all second-tier matches in 2017-18, the English Football League has said.</td>\n",
              "      <td>39578985</td>\n",
              "    </tr>\n",
              "    <tr>\n",
              "      <th>1</th>\n",
              "      <td>He is the highest-ranking US official to publicly implicate Beijing since news of the data breach emerged.\\nChina always dismissed suggestions that it was behind the hacking.\\nThe statement comes after three days of high-level talks in which China and the US agreed to a \"code of conduct\".\\n\"China remains the leading suspects,\" said Mr Clapper at a conference in Washington DC, but \"the US government continues to investigate\" he added, according to his office.\\nBackground to a \"massive\" hack in five points\\nUS hit by 'massive data breach'\\nChina military unit 'behind prolific hacking'\\nAt the Washington talks where cyber security was a top priority, US Secretary of State John Kerry said there was a need to work with China to develop a \"code of conduct\" on state behaviour in cyberspace - Chinese representatives had agreed with these conclusions.\\n\"It's something that we agreed needs to be addressed and hopefully it can be addressed soon,\" State Department spokesman John Kirby said on Thursday.\\nChina has said any suggestion that it was behind the hacking is \"irresponsible and unscientific\".</td>\n",
              "      <td>China is the \"leading suspect\" in the massive hack of a US government agency holding the personnel records of millions of Americans, US intelligence chief James Clapper has said.</td>\n",
              "      <td>33281269</td>\n",
              "    </tr>\n",
              "    <tr>\n",
              "      <th>2</th>\n",
              "      <td>Joanne Lees said she believed his missing body could still be found.\\nThe 43-year-old returned to the Outback as part of a TV special, revisiting the place where the 28-year-old was shot.\\nBradley Murdoch was convicted in 2005 of murdering Mr Falconio and assaulting Ms Lees, then 27, on a remote stretch of highway on July 14 2001.\\nThe murder took place near Barrow Creek, about 200 miles north of Alice Springs.\\nThe couple, from Huddersfield, were travelling when Murdoch waved down their camper van and shot Mr Falconio in the head.\\nMs Lees was threatened with a gun, punched in the head and bound with cable-tie restraints before she managed to escape, hiding in bushes for hours while her attacker stalked her with a dog.\\nMurdoch is believed to have hidden Mr Falconio's body, which has never been found, despite extensive searches.\\nMs Lees said she had \"no choice\" but to run from Murdoch because \"it was either run or be raped and killed\".\\nIn adverts for the special edition of 60 Minutes, she says: \"Pete's still missing. I know that he's somewhere here.\"\\nAsked if she is \"stepping inside\" her attacker's mind, she says: \"I guess it is a very alien thing for me to do because I'm not a violent person.\\n\"I'm not a murderer but if that's what I have to do and that's how I'm gong to find Pete then that's what I'm prepared to do.\"\\nShe adds: \"It's because I love Pete so much and I want to bring him home and I need to bring him home.\"\\nNorthern Territory Police renewed its appeal to help find his remains last year.\\nThe interview will be aired on Channel Nine in Australia at 21:40 GMT on Sunday.</td>\n",
              "      <td>The girlfriend of murdered British backpacker Peter Falconio has gone back to Australia 15 years after his death to \"bring him home\".</td>\n",
              "      <td>38942574</td>\n",
              "    </tr>\n",
              "    <tr>\n",
              "      <th>3</th>\n",
              "      <td>The Kurdish Peshmerga had held 20% of the town since December 2014, and although there had been daily fighting since then, the two sides had been at a stalemate.\\nSince Thursday, though, the Kurdish forces - backed by US air strikes - have made important ground, cutting early on the Highway 47 which passes Sinjar, the main supply line between IS' self-styled capital of Raqqa in Syria and Mosul in northern Iraq.\\nCapturing Sinjar will not only secure the highway, but the road south of Sinjar, towards the IS-held town of Baaj, is also reported to be under control of the Peshmerga forces.\\nThis is supposed to provide a buffer zone large enough to keep Sinjar safe in the near future.\\nHowever, it is by no means preventing IS from using scores of small countryside roads south of Sinjar that are still available until the winter weather makes them unusable.\\nThe next step has to be against the IS-held town of Tal Afar, and then Mosul.\\nIf not, Sinjar will always face attacks from those points. Yet, if Sinjar is de facto Kurdish territory, Tal Afar and Mosul are not.\\nProfile: Who are the Peshmerga?\\nWho are the Yazidis?\\nTal Afar is populated with Arabs and Turkmen: this means that the Kurdistan Regional Government (KRG) will not have any strategic interest in liberating and holding an area to which it has no claim.\\nThe same goes for Mosul and Baaj. While KRG President Massoud Barzani has repeatedly hinted that his government would contribute to the retaking of Mosul, recapturing an Arab city could be perceived as an act of Kurdish aggression against Arabs, raising tensions with the Baghdad government and potentially harming the Kurdish minority that has continued to live in Mosul since IS took it.\\nTactically, the town of Baaj, situated on higher grounds than Sinjar, will remain a perfect spot to target Sinjar.\\nSince the Peshmerga do not possess long-range missiles, how will they be able to create a strong enough buffer zone for the 3,000 Yazidis trapped on the mountain for more than a year to be able to safely return and live in their homes?\\nMoreover, as the IS frontline has been dissolved in Sinjar, IS is likely to return to its next best tactic: sending armoured vehicles packed with explosives to Peshmerga positions.\\nOnce again, the Peshmerga are underequipped to face this daily threat.\\nThe impending attack on Sinjar was an open secret.\\nTwo weeks ago, I witnessed long military convoys that were already on their way to retake the town, only to be derailed by a claim by Peshmerga rivals - Turkey's Kurdistan Workers' Party (PKK) rebels based in northern Iraq that it had already been recaptured from IS.\\nThe claim did not just halt Peshmerga operations: it gave ample time for IS fighters to prepare and tactically retreat from Sinjar, just as they did in Tikrit last spring, only to take Ramadi a few weeks later.\\nThe PKK is not the only local force that might get in the way of the Peshmerga as they seek to sustain their war effort.\\nLocal Arab populations fear that retributions might take place against them from the Yazidi militias that have been randomly formed since the occupation of Sinjar Mountain in August 2014.\\nWhen the Mosul Dam and the Zummar areas were recaptured from IS in late 2014, Yazidi militias kidnapped Arab women, drove villagers away and looted properties. There have been reports of more revenge attacks this year.\\nWhile KRG security forces have been trying to maintain civil peace in the area, those events have eroded social cohesion, which could sow the seeds of future ethnic conflicts.\\nIraq: The minorities of Nineveh\\nDr Victoria Fontan is also Director of the Center for Peace and Human Security at the American University of Kurdistan. Follow her on Twitter</td>\n",
              "      <td>Retaking Sinjar would be extremely important strategically and for the morale of the Kurdish people in their fight against so-called Islamic State (IS) - but what happens in the days and weeks afterwards will be crucial.</td>\n",
              "      <td>34812397</td>\n",
              "    </tr>\n",
              "    <tr>\n",
              "      <th>4</th>\n",
              "      <td>Despite always affirming a strong bond with Scotland, she was a divisive political figure.\\nFirst Minister Alex Salmond said Baroness Thatcher was \"truly formidable\".\\nScottish Conservative leader, Ruth Davidson, also paid tribute saying she was \"one of the truly great Prime Ministers\".\\nMr Salmond said the former Conservative Party Prime Minister's \"policies defined a political generation\" for many people in Scotland.\\n\"No doubt there will now be a renewed debate about the impact of that legacy\", he continued.\\nBy Brian TaylorPolitical editor, Scotland\\nShe never quite got Scotland.  However, Margaret Thatcher is not alone among Westminster leaders in that regard.\\nFor the most part, she was adored by her party in Scotland, just as in England.\\nBut, even as they worshipped, quite a few Scottish Tories fretted that her politics would prove particularly divisive north of the border and thus electorally unpopular.\\nRead more on Brian's blog\\n\"Today, however, the proper reaction should be respect and condolences to her family.\"\\nMs Davidson praised Lady Thatcher's policies, including extending the right for people to buy their council house.\\nRuth Davidson said: \"She defended Britain's sovereignty, helped win the cold war, empowered thousands to own their own home by democratising property ownership and smashed the glass ceiling.\\n\"My thoughts are with her family.\"\\nScottish Labour leader Johann Lamont said: \"I came into politics to fight the ideology and values of Margaret Thatcher which I believe damaged our country. But today is not a day to debate that.\\n\"Today is a day to offer the deepest condolences to her family, friends and all who loved her.\\n\"No-one can deny she made a deep mark on the history of this country.\"\\nUnder Baroness Thatcher's leadership the Conservative government implemented social and economic policies which were unpopular in Scotland, including the Community Charge or poll tax.\\nThe introduction of the poll tax, which took place in Scotland in 1989 - 12 months before the rest of the UK, led to widespread protests and a lasting animosity towards the Conservative party in Scotland.\\nSir Malcolm Rifkind, served as Secretary of State for Scotland in her cabinet, said many of her major achievements also continued to be reflected in public opinion.\\nHe told BBC Scotland: \"In a sense what made her so magnificent is occasionally what made her a very difficult and controversial character because she had very strong views, she put them forward uncompromisingly.\\n\"She didn't mind being challenged, indeed she would listen with great care if she thought the person challenging her actually knew what they were talking about and she could change her mind and opinions, but only on the basis of solid evidence and solid argument.\\n\"She would not be influenced by the fact it would be unpopular. That she despised, as well as disapproved of.\"\\nBaroness Thatcher's economic policy was also praised by Iain McMillan, director of CBI Scotland. He said: \"It is all too easy to overlook the dreadful state that the UK economy was in at that time and the challenges that she and her government faced.\\n\"Through sheer tenacity and immense courage, Margaret Thatcher changed the UK economy for the better and laid the ground for years of greatly improved economic performance.\"\\nThe former chief political correspondent of the BBC, John Sergeant said: \"It's interesting that her two election campaigns that really mattered were 1979 and '83 - both of them started in Perth. That's where she made her opening speech.\\n\"So Scotland did matter to her a great deal, but she was always rather dismayed that she didn't do very well in Scotland.\\n\"Her heart used to sink travelling north, as it did for Tony Blair. Once the poll tax was hung round her neck, and of course the miners dispute and everything else, she was always an amazingly divisive figure in Scotland and Tory fortunes north of the border never recovered from that early period.\"</td>\n",
              "      <td>Scottish politicians have paid tribute to Margaret Thatcher, Britain's first woman Prime Minister, who has died.</td>\n",
              "      <td>22065769</td>\n",
              "    </tr>\n",
              "  </tbody>\n",
              "</table>"
            ]
          },
          "metadata": {}
        },
        {
          "output_type": "stream",
          "name": "stdout",
          "text": [
            "TRAIN SET:\n",
            "Source Mean: 381.27, Source StdDev: 318.55\n",
            "Target Mean: 21.15, Target StdDev: 5.41\n",
            "\n",
            "VALIDATION SET:\n",
            "Source Mean: 346.34, Source StdDev: 266.02\n",
            "Target Mean: 20.88, Target StdDev: 4.76\n",
            "\n"
          ]
        },
        {
          "output_type": "display_data",
          "data": {
            "text/plain": [
              "<Figure size 1400x800 with 2 Axes>"
            ],
            "image/png": "[encoded data removed]"
          },
          "metadata": {}
        }
      ],
      "source": [
        "import datasets\n",
        "import random\n",
        "import pandas as pd\n",
        "import numpy as np\n",
        "from IPython.display import display, HTML\n",
        "import matplotlib.pyplot as plt\n",
        "\n",
        "def show_random_elements(dataset, num_examples=5):\n",
        "    assert num_examples <= len(dataset), \"Can't pick more elements than there are in the dataset.\"\n",
        "    picks = []\n",
        "    for _ in range(num_examples):\n",
        "        pick = random.randint(0, len(dataset)-1)\n",
        "        while pick in picks:\n",
        "            pick = random.randint(0, len(dataset)-1)\n",
        "        picks.append(pick)\n",
        "\n",
        "    df = pd.DataFrame(dataset[picks])\n",
        "    for column, typ in dataset.features.items():\n",
        "        if isinstance(typ, datasets.ClassLabel):\n",
        "            df[column] = df[column].transform(lambda i: typ.names[i])\n",
        "    display(HTML(df.to_html()))\n",
        "\n",
        "\n",
        "def calculate_token_counts(dataset):\n",
        "    source_counts = [len(row['document'].split()) for row in dataset]\n",
        "    target_counts = [len(row['summary'].split()) for row in dataset]\n",
        "    return source_counts, target_counts\n",
        "\n",
        "def token_counts_summary(raw_datasets):\n",
        "    for split, dataset in raw_datasets.items():\n",
        "        source_counts, target_counts = calculate_token_counts(dataset)\n",
        "        print(f\"{split.upper()} SET:\")\n",
        "        print(f\"Source Mean: {np.mean(source_counts):.2f}, Source StdDev: {np.std(source_counts):.2f}\")\n",
        "        print(f\"Target Mean: {np.mean(target_counts):.2f}, Target StdDev: {np.std(target_counts):.2f}\\n\")\n",
        "\n",
        "\n",
        "def show_token_counts(dataset):\n",
        "    source_counts, target_counts = calculate_token_counts(dataset)\n",
        "    f, (ax0, ax1) = plt.subplots(1, 2, figsize=(14, 8))\n",
        "    ax0.hist(source_counts, bins=20)\n",
        "    ax1.hist(target_counts, bins=20)\n",
        "    ax0.set_title(\"Document Token Count Distribution\")\n",
        "    ax1.set_title(\"Summary Token Count Distribution\")\n",
        "\n",
        "show_random_elements(raw_datasets[\"validation\"])\n",
        "show_token_counts(raw_datasets[\"validation\"])\n",
        "token_counts_summary(raw_datasets)"
      ]
    },
    {
      "cell_type": "markdown",
      "metadata": {
        "id": "eULboG9KaWdV"
      },
      "source": [
        "### ROUGE Metric"
      ]
    },
    {
      "cell_type": "markdown",
      "metadata": {
        "id": "jAWdqcUBIrJC"
      },
      "source": [
        "To evaluate our model's performance, we will use **ROUGE (Recall-Oriented Understudy for Gisting Evaluation)**. It compares *n*-grams of the model outputs to reference text but is based on recall instead of precision like BLEU. ROUGE does not impose any brevity penalty. BLEU returns a single number, ROUGE outputs multiple scores per each $n$-gram under consideration.\n",
        "\n",
        "This metric is provided natively within the dataset library. **Note** metrics are difficult to implement correctly from scratch as decisions like lemmatisation, tokenisation and punctation-handling can create large discrepancies in scores.\n",
        "\n",
        "You can call its `compute` method with your hypotheses and target summaries, which need to be list of decoded strings:"
      ]
    },
    {
      "cell_type": "code",
      "execution_count": 77,
      "metadata": {
        "colab": {
          "base_uri": "https://localhost:8080/"
        },
        "id": "6XN1Rq0aIrJC",
        "outputId": "57856dce-55ba-462b-c57f-205585f9dd1f"
      },
      "outputs": [
        {
          "output_type": "execute_result",
          "data": {
            "text/plain": [
              "{'rouge1': AggregateScore(low=Score(precision=0.5714285714285714, recall=0.09375, fmeasure=0.16216216216216214), mid=Score(precision=0.5857142857142856, recall=0.109375, fmeasure=0.18364518364518362), high=Score(precision=0.6, recall=0.125, fmeasure=0.20512820512820512)),\n",
              " 'rouge2': AggregateScore(low=Score(precision=0.25, recall=0.03225806451612903, fmeasure=0.05714285714285715), mid=Score(precision=0.29166666666666663, recall=0.04838709677419355, fmeasure=0.08262548262548262), high=Score(precision=0.3333333333333333, recall=0.06451612903225806, fmeasure=0.1081081081081081)),\n",
              " 'rougeL': AggregateScore(low=Score(precision=0.5714285714285714, recall=0.09375, fmeasure=0.16216216216216214), mid=Score(precision=0.5857142857142856, recall=0.109375, fmeasure=0.18364518364518362), high=Score(precision=0.6, recall=0.125, fmeasure=0.20512820512820512)),\n",
              " 'rougeLsum': AggregateScore(low=Score(precision=0.5714285714285714, recall=0.09375, fmeasure=0.16216216216216214), mid=Score(precision=0.5857142857142856, recall=0.109375, fmeasure=0.18364518364518362), high=Score(precision=0.6, recall=0.125, fmeasure=0.20512820512820512))}"
            ]
          },
          "metadata": {},
          "execution_count": 77
        }
      ],
      "source": [
        "from datasets import load_metric\n",
        "metric = load_metric(\"rouge\", trust_remote_code=True)\n",
        "\n",
        "# help(metric)      # << Uncomment to see more about the ROUGE eval metric\n",
        "\n",
        "predicted_summaries = [\"AI applications span diverse fields.\", \"Enhancing efficiency, decision-making, experiences with AI.\"]\n",
        "target_doc = 'As artificial intelligence continues to advance, researchers are exploring its applications in diverse fields such as healthcare, finance, education, and entertainment, aiming to improve efficiency, decision-making processes, and overall human experiences.'\n",
        "docs = [target_doc, target_doc]\n",
        "\n",
        "metric.compute(predictions=predicted_summaries, references=docs)"
      ]
    },
    {
      "cell_type": "markdown",
      "metadata": {
        "id": "n9qywopnIrJH"
      },
      "source": [
        "## Preprocessing the Data"
      ]
    },
    {
      "cell_type": "markdown",
      "metadata": {
        "id": "YVx71GdAIrJH"
      },
      "source": [
        "We will proprocess the data using the Huggingface `Tokenizer` paired with T5, which tokenises input text and adds additional required tokens. This ensures that our inputs are correctly aligned with the model's embedding matrix."
      ]
    },
    {
      "cell_type": "code",
      "execution_count": 78,
      "metadata": {
        "id": "eXNLu_-nIrJI"
      },
      "outputs": [],
      "source": [
        "from transformers import AutoTokenizer\n",
        "\n",
        "model_checkpoint = \"t5-small\"\n",
        "tokenizer = AutoTokenizer.from_pretrained(model_checkpoint)"
      ]
    },
    {
      "cell_type": "markdown",
      "metadata": {
        "id": "0p5cJJu9aWdd"
      },
      "source": [
        "### Using the Tokenizer"
      ]
    },
    {
      "cell_type": "markdown",
      "metadata": {
        "id": "hQxSWln-aWdd"
      },
      "source": [
        "`Tokenizer` outputs are different for different tokenisers. Compare outputs below for the T5 and BERT tokenisers.\n"
      ]
    },
    {
      "cell_type": "code",
      "execution_count": 79,
      "metadata": {
        "colab": {
          "base_uri": "https://localhost:8080/"
        },
        "id": "gMbL4z3JaWde",
        "outputId": "2de09dd8-b36a-42d4-dc63-5110e6fecf6d"
      },
      "outputs": [
        {
          "output_type": "stream",
          "name": "stdout",
          "text": [
            "{'input_ids': [7833, 1564, 8438, 2399, 4120, 5, 1], 'attention_mask': [1, 1, 1, 1, 1, 1, 1]}\n"
          ]
        },
        {
          "output_type": "execute_result",
          "data": {
            "text/plain": [
              "{'input_ids': [101, 9932, 5097, 8487, 7578, 4249, 1012, 102], 'token_type_ids': [0, 0, 0, 0, 0, 0, 0, 0], 'attention_mask': [1, 1, 1, 1, 1, 1, 1, 1]}"
            ]
          },
          "metadata": {},
          "execution_count": 79
        }
      ],
      "source": [
        "print(tokenizer(\"AI applications span diverse fields.\"))\n",
        "\n",
        "tokenizer_ = AutoTokenizer.from_pretrained('bert-base-uncased')\n",
        "tokenizer_('AI applications span diverse fields.')"
      ]
    },
    {
      "cell_type": "markdown",
      "metadata": {
        "id": "2C0hcmp9IrJQ"
      },
      "source": [
        "As we mentioned above, T5 was trained in a multitask setup such that it can perform multiple tasks. We prefix the inputs with \"summarize: \" to prompt the model to summarise.\n",
        "\n",
        "We will now create a function to preprocess our samples, feeding them to the tokeniser with the `truncation=True` argument. This ensures that any input exceeding the model's maximum accepted length will be truncated accordingly. Padding will be addressed later in a data collator, allowing us to pad examples to the longest length in the batch rather than the entire dataset.\n",
        "\n",
        "Complete the `preprocess_function` below to prepare our training data (**Hint**: do not forget to prefix the inputs)."
      ]
    },
    {
      "cell_type": "code",
      "execution_count": 80,
      "metadata": {
        "id": "bcmIECySYcY9"
      },
      "outputs": [],
      "source": [
        "if model_checkpoint in [\"t5-small\", \"t5-base\", \"t5-large\", \"t5-3b\", \"t5-11b\"]:\n",
        "    prefix = \"summarize: \"\n",
        "else:\n",
        "    prefix = \"\""
      ]
    },
    {
      "cell_type": "code",
      "execution_count": 81,
      "metadata": {
        "id": "vc0BSBLIIrJQ"
      },
      "outputs": [],
      "source": [
        "max_doc_len = 1024\n",
        "max_sum_length = 128\n",
        "\n",
        "\n",
        "def preprocess_samples(samples):\n",
        "\n",
        "    inputs = list()\n",
        "\n",
        "    # TO DO\n",
        "    # Prefixing each document in the dataset with \"summarize: \"\n",
        "    inputs = [\"summarize: \" + doc for doc in samples[\"document\"]]\n",
        "\n",
        "    # Tokenizing the inputs with truncation and padding (handled later in a data collator)\n",
        "    model_inputs = tokenizer(inputs, max_length=max_doc_len, truncation=True, padding=\"longest\")\n",
        "    # TO DO\n",
        "    targets = tokenizer(text_target = samples[\"summary\"], max_length=max_sum_length, truncation=True)\n",
        "    model_inputs[\"labels\"] = targets[\"input_ids\"]\n",
        "\n",
        "    return model_inputs"
      ]
    },
    {
      "cell_type": "markdown",
      "metadata": {
        "id": "0lm8ozrJIrJR"
      },
      "source": [
        "This function works with one or several examples. In the case of several examples, the tokeniser will return a list of lists for each key:"
      ]
    },
    {
      "cell_type": "code",
      "execution_count": 82,
      "metadata": {
        "colab": {
          "base_uri": "https://localhost:8080/"
        },
        "id": "D912cBXDni_o",
        "outputId": "358aad29-fe70-44bf-9fac-abb4dd4e015b"
      },
      "outputs": [
        {
          "output_type": "execute_result",
          "data": {
            "text/plain": [
              "{'document': ['Mr LaBeouf was arrested following a confrontation at his live-streamed video project in New York, and was charged with assault and harassment.\\nThose charges have now been dropped.\\nA spokeswoman for the district attorney in New York\\'s Queen\\'s district told US media the case would be dismissed because of insufficient evidence.\\nMr LaBeouf\\'s art project, a 24-hour live stream called He Will Not Divide Us, encouraged members of the public to say those words into a camera outside New York\\'s Museum of the Moving Image.\\nBut Mr LaBeouf and a member of the public allegedly entered an altercation during a live broadcast in January.  The museum later said the site had become \"a flashpoint for violence\".\\nThe live stream was planned to continue for the four years of Mr Trump\\'s presidency, but the museum pulled support for the project in early February.\\nThe project was forced to move location twice in the US, after opponents tried to disrupt it.\\nIt then arrived in a new form in Liverpool in the UK - but faced similar problems.\\nLiverpool\\'s Fact arts centre had been live-streaming a flag with the words, but cancelled the project after people climbed on the roof to try and remove the flag.\\nIn addition to his performance art, LaBeouf is best known for films like Transformers, Indiana Jones and the Kingdom of the Crystal Skull and Wall Street: Money Never Sleeps.',\n",
              "  'Mr Corbyn has not visited Wales during the campaign, and a planned visit for Friday was cancelled on Thursday night.\\nMr Jones said the visit was \"not possible\" after the suspension of former London Mayor Ken Livingstone.\\nHe also told BBC Wales the response to Mr Corbyn on the doorsteps in Wales was \"mixed\".\\nMr Livingstone has been suspended from Labour for his comments saying Adolf Hitler had supported Zionism. Mr Jones has called for the former mayor to be expelled from the party altogether.\\nThe Welsh Labour leader said: \"It was planned he was going to come. We all saw what happened yesterday with Ken Livingstone, he is dealing with that in London, so it\\'s just not possible.\"\\nThe decision not to proceed with the visit took place after \"discussions between the two offices\", Mr Jones said, adding that \"given all the publicity yesterday it would detract from our campaign today\".\\nAsked if Mr Corbyn would be in Wales before voters go to the polls next week, Mr Jones said: \"Probably not, because there isn\\'t much time and parliament is sitting next week.\\n\"If it\\'s possible, great, but I don\\'t think it\\'s going to be possible between now and Thursday.\"\\nAsked how voters were responding to Mr Corbyn on the doorstep, Mr Jones said: \"I think if I\\'m honest with you, it\\'s mixed.\\n\"Yes, there are some people who are saying to me, well, I\\'m not sure about Jeremy Corbyn. There are others who take the opposite view.\\n\"What we\\'re finding is that fewer and fewer people are mentioning him on the doorstep and more and more people are saying David Cameron and the Tories, they\\'re divided on everything.\"\\nOn  Friday, a source close to Labour\\'s UK leader said: \"Jeremy Corbyn cancelled the visit due to a high level of media interest that would have affected the day\\'s campaigning.\"\\nA spokesman for Welsh Labour said the party was trying to reschedule a visit by Mr Corbyn before polling day on Thursday.\\nAnalysis by BBC Wales political editor Nick Servini\\nSenior Welsh Labour figures are putting a brave face on things but behind the scenes there is barely concealed irritation at the way the headlines have been dominated by further question marks over the leadership of Jeremy Corbyn.\\nThe party has been effective so far in running a Jeremy Corbyn-free campaign. The UK leader has not been to Wales of late and there has been little mention of Westminster politics by Labour candidates so far.\\nThere is a reason for this - Jeremy Corbyn plays badly on the doorstep with plenty of voters in key marginal seats.\\nCarwyn Jones says fewer and fewer people have been mentioning him, which may be a reflection of the success Labour have had in largely keeping him out of the assembly campaign.\\nWhether they like it or not, Labour\\'s internal divisions at a UK level are back out in the open and it is something they are going to have to deal with as we head into the final weekend of the campaign.\\nCommenting earlier on Friday on reports Welsh Labour had asked Mr Corbyn not to visit Wales, former Welsh Secretary Lord Hain said: \"Given what\\'s happening in London, it\\'s sensible we concentrate on what\\'s going on in Wales.\"\\nLabour was a \"proud anti-racist party\", he told BBC Radio Wales, saying the Livingstone controversy was \"an aberration\".\\nNewport West Labour MP Paul Flynn rejected the idea Mr Livingstone was anti-Semitic.\\nHe said there was a \"misunderstanding\" over the comments and denied there was any \"crisis\" in the party.\\n\"The Labour Party has been friends with Israel and with Jews forever,\" he told BBC Radio Cymru.\\n\"People have made a mountain out of a molehill.\"\\nMr Corbyn visited the closure-threatened Port Talbot steel plant in March, but has not been seen in Wales since.\\nPrime Minister David Cameron has only made one visit to Wales during the election campaign; earlier this week he too visited Port Talbot, and joined Welsh Conservative leader Andrew RT Davies at a factory in Gorseinon, near Swansea, although no TV cameras were allowed to film the visit.\\nLiberal Democrat leader Tim Farron and UKIP\\'s Nigel Farage have both made two visits to Wales during the campaign.'],\n",
              " 'summary': ['Actor-turned-artist Shia LaBeouf will no longer face assault charges over a January incident at his anti-Donald Trump art installation.',\n",
              "  'Labour leader Jeremy Corbyn will \"probably not\" visit Wales before next week\\'s assembly election, First Minister Carwyn Jones has said.'],\n",
              " 'id': ['39462526', '36167426']}"
            ]
          },
          "metadata": {},
          "execution_count": 82
        }
      ],
      "source": [
        "raw_datasets[\"train\"][:2]"
      ]
    },
    {
      "cell_type": "code",
      "execution_count": 83,
      "metadata": {
        "colab": {
          "base_uri": "https://localhost:8080/"
        },
        "id": "-b70jh26IrJS",
        "outputId": "ca19ac38-0be1-428c-fc2c-d956c2e7b52f"
      },
      "outputs": [
        {
          "output_type": "execute_result",
          "data": {
            "text/plain": [
              "{'input_ids': [[21603, 10, 1363, 325, 2703, 1063, 89, 47, 10195, 826, 3, 9, 25704, 44, 112, 619, 18, 8103, 15, 26, 671, 516, 16, 368, 1060, 6, 11, 47, 4977, 28, 12710, 11, 23556, 5, 3, 3405, 3991, 43, 230, 118, 6292, 5, 71, 5468, 7, 15893, 21, 8, 3939, 4917, 16, 368, 1060, 31, 7, 5286, 31, 7, 3939, 1219, 837, 783, 8, 495, 133, 36, 19664, 250, 13, 16, 17817, 2084, 5, 1363, 325, 2703, 1063, 89, 31, 7, 768, 516, 6, 3, 9, 12371, 5842, 619, 6093, 718, 216, 2003, 933, 22390, 6952, 6, 6470, 724, 13, 8, 452, 12, 497, 273, 1234, 139, 3, 9, 1861, 1067, 368, 1060, 31, 7, 3312, 13, 8, 15510, 6298, 5, 299, 1363, 325, 2703, 1063, 89, 11, 3, 9, 1144, 13, 8, 452, 3, 18280, 5136, 46, 8310, 75, 257, 383, 3, 9, 619, 6878, 16, 1762, 5, 37, 7071, 865, 243, 8, 353, 141, 582, 96, 9, 4923, 2700, 21, 4756, 1280, 37, 619, 6093, 47, 4355, 12, 916, 21, 8, 662, 203, 13, 1363, 2523, 31, 7, 27405, 6, 68, 8, 7071, 6756, 380, 21, 8, 516, 16, 778, 2083, 5, 37, 516, 47, 5241, 12, 888, 1128, 4394, 16, 8, 837, 6, 227, 16383, 1971, 12, 23773, 34, 5, 94, 258, 4363, 16, 3, 9, 126, 607, 16, 15131, 16, 8, 1270, 3, 18, 68, 7865, 1126, 982, 5, 15131, 31, 7, 11543, 5138, 2050, 141, 118, 619, 18, 8103, 53, 3, 9, 5692, 28, 8, 1234, 6, 68, 18454, 8, 516, 227, 151, 3, 23626, 30, 8, 2955, 12, 653, 11, 2036, 8, 5692, 5, 86, 811, 12, 112, 821, 768, 6, 325, 2703, 1063, 89, 19, 200, 801, 21, 4852, 114, 31220, 7, 6, 11494, 6193, 11, 8, 6524, 13, 8, 12961, 6458, 83, 40, 11, 3556, 1887, 10, 8833, 8400, 13190, 7, 5, 1, 0, 0, 0, 0, 0, 0, 0, 0, 0, 0, 0, 0, 0, 0, 0, 0, 0, 0, 0, 0, 0, 0, 0, 0, 0, 0, 0, 0, 0, 0, 0, 0, 0, 0, 0, 0, 0, 0, 0, 0, 0, 0, 0, 0, 0, 0, 0, 0, 0, 0, 0, 0, 0, 0, 0, 0, 0, 0, 0, 0, 0, 0, 0, 0, 0, 0, 0, 0, 0, 0, 0, 0, 0, 0, 0, 0, 0, 0, 0, 0, 0, 0, 0, 0, 0, 0, 0, 0, 0, 0, 0, 0, 0, 0, 0, 0, 0, 0, 0, 0, 0, 0, 0, 0, 0, 0, 0, 0, 0, 0, 0, 0, 0, 0, 0, 0, 0, 0, 0, 0, 0, 0, 0, 0, 0, 0, 0, 0, 0, 0, 0, 0, 0, 0, 0, 0, 0, 0, 0, 0, 0, 0, 0, 0, 0, 0, 0, 0, 0, 0, 0, 0, 0, 0, 0, 0, 0, 0, 0, 0, 0, 0, 0, 0, 0, 0, 0, 0, 0, 0, 0, 0, 0, 0, 0, 0, 0, 0, 0, 0, 0, 0, 0, 0, 0, 0, 0, 0, 0, 0, 0, 0, 0, 0, 0, 0, 0, 0, 0, 0, 0, 0, 0, 0, 0, 0, 0, 0, 0, 0, 0, 0, 0, 0, 0, 0, 0, 0, 0, 0, 0, 0, 0, 0, 0, 0, 0, 0, 0, 0, 0, 0, 0, 0, 0, 0, 0, 0, 0, 0, 0, 0, 0, 0, 0, 0, 0, 0, 0, 0, 0, 0, 0, 0, 0, 0, 0, 0, 0, 0, 0, 0, 0, 0, 0, 0, 0, 0, 0, 0, 0, 0, 0, 0, 0, 0, 0, 0, 0, 0, 0, 0, 0, 0, 0, 0, 0, 0, 0, 0, 0, 0, 0, 0, 0, 0, 0, 0, 0, 0, 0, 0, 0, 0, 0, 0, 0, 0, 0, 0, 0, 0, 0, 0, 0, 0, 0, 0, 0, 0, 0, 0, 0, 0, 0, 0, 0, 0, 0, 0, 0, 0, 0, 0, 0, 0, 0, 0, 0, 0, 0, 0, 0, 0, 0, 0, 0, 0, 0, 0, 0, 0, 0, 0, 0, 0, 0, 0, 0, 0, 0, 0, 0, 0, 0, 0, 0, 0, 0, 0, 0, 0, 0, 0, 0, 0, 0, 0, 0, 0, 0, 0, 0, 0, 0, 0, 0, 0, 0, 0, 0, 0, 0, 0, 0, 0, 0, 0, 0, 0, 0, 0, 0, 0, 0, 0, 0, 0, 0, 0, 0, 0, 0, 0, 0, 0, 0, 0, 0, 0, 0, 0, 0, 0, 0, 0, 0, 0, 0, 0, 0, 0, 0, 0, 0, 0, 0, 0, 0, 0, 0, 0, 0, 0, 0, 0, 0, 0, 0, 0, 0, 0, 0, 0, 0, 0, 0, 0, 0, 0, 0, 0, 0, 0, 0, 0, 0, 0, 0, 0, 0, 0, 0, 0, 0, 0, 0, 0, 0, 0, 0, 0, 0, 0, 0, 0, 0, 0, 0, 0, 0, 0, 0, 0, 0, 0, 0, 0, 0, 0, 0, 0, 0, 0, 0, 0, 0, 0, 0, 0, 0, 0, 0, 0, 0, 0, 0, 0, 0, 0, 0, 0, 0, 0, 0, 0, 0, 0, 0, 0, 0, 0, 0, 0, 0, 0, 0, 0, 0, 0, 0, 0, 0, 0, 0, 0, 0, 0, 0, 0, 0, 0, 0, 0, 0, 0, 0, 0, 0, 0, 0, 0, 0, 0, 0, 0, 0, 0, 0, 0, 0, 0, 0, 0, 0, 0, 0, 0, 0, 0, 0, 0, 0, 0, 0, 0, 0, 0, 0, 0, 0, 0, 0, 0, 0, 0, 0, 0, 0, 0, 0, 0, 0, 0, 0, 0, 0, 0, 0, 0, 0, 0, 0, 0, 0, 0, 0, 0, 0, 0, 0, 0, 0, 0, 0, 0, 0, 0, 0, 0, 0, 0, 0, 0, 0, 0, 0, 0, 0, 0, 0, 0, 0, 0, 0, 0, 0, 0, 0, 0, 0, 0, 0, 0, 0, 0, 0, 0, 0, 0, 0, 0, 0, 0], [21603, 10, 1363, 2487, 969, 29, 65, 59, 5251, 10256, 383, 8, 2066, 6, 11, 3, 9, 4355, 719, 21, 1701, 47, 18454, 30, 2721, 706, 5, 1363, 6193, 243, 8, 719, 47, 96, 2264, 487, 121, 227, 8, 9756, 13, 1798, 1524, 12394, 5704, 5753, 3009, 5, 216, 92, 1219, 9938, 10256, 8, 1773, 12, 1363, 2487, 969, 29, 30, 8, 26929, 7, 16, 10256, 47, 96, 13682, 15, 26, 1280, 1363, 5753, 3009, 65, 118, 14840, 45, 16117, 21, 112, 2622, 2145, 1980, 32, 40, 89, 22640, 141, 3510, 1027, 28740, 5, 1363, 6193, 65, 718, 21, 8, 1798, 18176, 12, 36, 1215, 14528, 45, 8, 1088, 16889, 5, 37, 22982, 16117, 2488, 243, 10, 96, 196, 17, 47, 4355, 3, 88, 47, 352, 12, 369, 5, 101, 66, 1509, 125, 2817, 4981, 28, 5704, 5753, 3009, 6, 3, 88, 19, 4945, 28, 24, 16, 1524, 6, 78, 34, 31, 7, 131, 59, 487, 535, 37, 1357, 59, 12, 8669, 28, 8, 719, 808, 286, 227, 96, 26, 28679, 1938, 7, 344, 8, 192, 6036, 1686, 1363, 6193, 243, 6, 2651, 24, 96, 17935, 29, 66, 8, 23546, 4981, 34, 133, 20, 6471, 17, 45, 69, 2066, 469, 1280, 282, 5100, 3, 99, 1363, 2487, 969, 29, 133, 36, 16, 10256, 274, 10861, 281, 12, 8, 5492, 7, 416, 471, 6, 1363, 6193, 243, 10, 96, 16945, 59, 6, 250, 132, 19, 29, 31, 17, 231, 97, 11, 20417, 19, 3823, 416, 471, 5, 96, 5801, 34, 31, 7, 487, 6, 248, 6, 68, 27, 278, 31, 17, 317, 34, 31, 7, 352, 12, 36, 487, 344, 230, 11, 2721, 535, 282, 5100, 149, 10861, 130, 16523, 12, 1363, 2487, 969, 29, 30, 8, 26929, 6, 1363, 6193, 243, 10, 96, 196, 317, 3, 99, 27, 31, 51, 5057, 28, 25, 6, 34, 31, 7, 4838, 5, 96, 19739, 6, 132, 33, 128, 151, 113, 33, 2145, 12, 140, 6, 168, 6, 27, 31, 51, 59, 417, 81, 3, 18540, 2487, 969, 29, 5, 290, 33, 717, 113, 240, 8, 6401, 903, 5, 96, 5680, 62, 31, 60, 2342, 19, 24, 3, 10643, 11, 3, 10643, 151, 33, 3, 27492, 376, 30, 8, 26929, 11, 72, 11, 72, 151, 33, 2145, 1955, 18501, 11, 8, 304, 2593, 6, 79, 31, 60, 8807, 30, 762, 535, 461, 1701, 6, 3, 9, 1391, 885, 12, 16117, 31, 7, 1270, 2488, 243, 10, 96, 18540, 2487, 969, 29, 18454, 8, 719, 788, 12, 3, 9, 306, 593, 13, 783, 1046, 24, 133, 43, 4161, 8, 239, 31, 7, 2066, 53, 535, 71, 3, 7, 18461, 21, 22982, 16117, 243, 8, 1088, 47, 1119, 12, 3, 60, 7, 4513, 83, 15, 3, 9, 719, 57, 1363, 2487, 969, 29, 274, 5492, 53, 239, 30, 2721, 5, 10582, 57, 9938, 10256, 1827, 6005, 7486, 28706, 29, 23, 5523, 22982, 16117, 5638, 33, 3, 3131, 3, 9, 13414, 522, 30, 378, 68, 1187, 8, 8073, 132, 19, 11289, 27972, 25330, 44, 8, 194, 8, 12392, 7, 43, 118, 3, 16032, 57, 856, 822, 6784, 147, 8, 2843, 13, 3, 18540, 2487, 969, 29, 5, 37, 1088, 65, 118, 1231, 78, 623, 16, 1180, 3, 9, 3, 18540, 2487, 969, 29, 18, 2113, 2066, 5, 37, 1270, 2488, 65, 59, 118, 12, 10256, 13, 1480, 11, 132, 65, 118, 385, 2652, 13, 25804, 6525, 57, 16117, 4341, 78, 623, 5, 290, 19, 3, 9, 1053, 21, 48, 3, 18, 3, 18540, 2487, 969, 29, 4805, 14621, 30, 8, 26929, 28, 2500, 13, 10861, 16, 843, 18777, 6116, 5, 1184, 25269, 6193, 845, 3, 10643, 11, 3, 10643, 151, 43, 118, 3, 27492, 376, 6, 84, 164, 36, 3, 9, 9619, 13, 8, 1269, 16117, 43, 141, 16, 3, 6974, 2627, 376, 91, 13, 8, 7889, 2066, 5, 3, 2374, 79, 114, 34, 42, 59, 6, 16117, 31, 7, 3224, 4889, 7, 44, 3, 9, 1270, 593, 33, 223, 91, 16, 8, 539, 11, 34, 19, 424, 79, 33, 352, 12, 43, 12, 1154, 28, 38, 62, 819, 139, 8, 804, 1851, 13, 8, 2066, 5, 5257, 53, 2283, 30, 1701, 30, 2279, 22982, 16117, 141, 1380, 1363, 2487, 969, 29, 59, 12, 719, 10256, 6, 1798, 22982, 7471, 2809, 1626, 77, 243, 10, 96, 517, 757, 29, 125, 31, 7, 4626, 16, 1524, 6, 34, 31, 7, 11743, 62, 11345, 30, 125, 31, 7, 352, 30, 16, 10256, 535, 16117, 47, 3, 9, 96, 1409, 76, 26, 1181, 18, 3738, 343, 1088, 1686, 3, 88, 1219, 9938, 5061, 10256, 6, 2145, 8, 5753, 3009, 21760, 47, 96, 152, 862, 2661, 1280, 24260, 1244, 16117, 5220, 1838, 8223, 29, 29, 12967, 8, 800, 1363, 5753, 3009, 47, 1181, 18, 134, 15, 1538, 447, 5, 216, 243, 132, 47, 3, 9, 96, 28063, 121, 147, 8, 2622, 11, 11958, 132, 47, 136, 96, 2685, 7, 159, 121, 16, 8, 1088, 5, 96, 634, 16117, 3450, 65, 118, 803, 28, 3352, 11, 28, 11896, 6276, 976, 3, 88, 1219, 9938, 5061, 6400, 51, 52, 76, 5, 96, 24337, 43, 263, 3, 9, 4180, 91, 13, 3, 9, 2288, 109, 6321, 535, 1363, 2487, 969, 29, 5251, 8, 12493, 18, 189, 60, 144, 4632, 3625, 11350, 4045, 2470, 1475, 16, 1332, 6, 68, 65, 59, 118, 894, 16, 10256, 437, 5, 5923, 3271, 1955, 18501, 65, 163, 263, 80, 719, 12, 10256, 383, 8, 4356, 2066, 117, 2283, 48, 471, 3, 88, 396, 5251, 3625, 11350, 4045, 6, 11, 3311, 22982, 23053, 2488, 5954, 3, 5934, 28571, 44, 3, 9, 6291, 16, 9826, 7, 2455, 106, 6, 1084, 18041, 7, 15, 9, 6, 2199, 150, 1424, 7724, 130, 2225, 12, 814, 8, 719, 5, 18587, 3, 19679, 2488, 4485, 5186, 52, 106, 11, 1270, 4629, 31, 7, 2504, 1803, 5186, 545, 43, 321, 263, 192, 8305, 12, 10256, 383, 8, 2066, 5, 1]], 'attention_mask': [[1, 1, 1, 1, 1, 1, 1, 1, 1, 1, 1, 1, 1, 1, 1, 1, 1, 1, 1, 1, 1, 1, 1, 1, 1, 1, 1, 1, 1, 1, 1, 1, 1, 1, 1, 1, 1, 1, 1, 1, 1, 1, 1, 1, 1, 1, 1, 1, 1, 1, 1, 1, 1, 1, 1, 1, 1, 1, 1, 1, 1, 1, 1, 1, 1, 1, 1, 1, 1, 1, 1, 1, 1, 1, 1, 1, 1, 1, 1, 1, 1, 1, 1, 1, 1, 1, 1, 1, 1, 1, 1, 1, 1, 1, 1, 1, 1, 1, 1, 1, 1, 1, 1, 1, 1, 1, 1, 1, 1, 1, 1, 1, 1, 1, 1, 1, 1, 1, 1, 1, 1, 1, 1, 1, 1, 1, 1, 1, 1, 1, 1, 1, 1, 1, 1, 1, 1, 1, 1, 1, 1, 1, 1, 1, 1, 1, 1, 1, 1, 1, 1, 1, 1, 1, 1, 1, 1, 1, 1, 1, 1, 1, 1, 1, 1, 1, 1, 1, 1, 1, 1, 1, 1, 1, 1, 1, 1, 1, 1, 1, 1, 1, 1, 1, 1, 1, 1, 1, 1, 1, 1, 1, 1, 1, 1, 1, 1, 1, 1, 1, 1, 1, 1, 1, 1, 1, 1, 1, 1, 1, 1, 1, 1, 1, 1, 1, 1, 1, 1, 1, 1, 1, 1, 1, 1, 1, 1, 1, 1, 1, 1, 1, 1, 1, 1, 1, 1, 1, 1, 1, 1, 1, 1, 1, 1, 1, 1, 1, 1, 1, 1, 1, 1, 1, 1, 1, 1, 1, 1, 1, 1, 1, 1, 1, 1, 1, 1, 1, 1, 1, 1, 1, 1, 1, 1, 1, 1, 1, 1, 1, 1, 1, 1, 1, 1, 1, 1, 1, 1, 1, 1, 1, 1, 1, 1, 1, 1, 1, 1, 1, 1, 1, 1, 1, 1, 1, 1, 1, 1, 1, 0, 0, 0, 0, 0, 0, 0, 0, 0, 0, 0, 0, 0, 0, 0, 0, 0, 0, 0, 0, 0, 0, 0, 0, 0, 0, 0, 0, 0, 0, 0, 0, 0, 0, 0, 0, 0, 0, 0, 0, 0, 0, 0, 0, 0, 0, 0, 0, 0, 0, 0, 0, 0, 0, 0, 0, 0, 0, 0, 0, 0, 0, 0, 0, 0, 0, 0, 0, 0, 0, 0, 0, 0, 0, 0, 0, 0, 0, 0, 0, 0, 0, 0, 0, 0, 0, 0, 0, 0, 0, 0, 0, 0, 0, 0, 0, 0, 0, 0, 0, 0, 0, 0, 0, 0, 0, 0, 0, 0, 0, 0, 0, 0, 0, 0, 0, 0, 0, 0, 0, 0, 0, 0, 0, 0, 0, 0, 0, 0, 0, 0, 0, 0, 0, 0, 0, 0, 0, 0, 0, 0, 0, 0, 0, 0, 0, 0, 0, 0, 0, 0, 0, 0, 0, 0, 0, 0, 0, 0, 0, 0, 0, 0, 0, 0, 0, 0, 0, 0, 0, 0, 0, 0, 0, 0, 0, 0, 0, 0, 0, 0, 0, 0, 0, 0, 0, 0, 0, 0, 0, 0, 0, 0, 0, 0, 0, 0, 0, 0, 0, 0, 0, 0, 0, 0, 0, 0, 0, 0, 0, 0, 0, 0, 0, 0, 0, 0, 0, 0, 0, 0, 0, 0, 0, 0, 0, 0, 0, 0, 0, 0, 0, 0, 0, 0, 0, 0, 0, 0, 0, 0, 0, 0, 0, 0, 0, 0, 0, 0, 0, 0, 0, 0, 0, 0, 0, 0, 0, 0, 0, 0, 0, 0, 0, 0, 0, 0, 0, 0, 0, 0, 0, 0, 0, 0, 0, 0, 0, 0, 0, 0, 0, 0, 0, 0, 0, 0, 0, 0, 0, 0, 0, 0, 0, 0, 0, 0, 0, 0, 0, 0, 0, 0, 0, 0, 0, 0, 0, 0, 0, 0, 0, 0, 0, 0, 0, 0, 0, 0, 0, 0, 0, 0, 0, 0, 0, 0, 0, 0, 0, 0, 0, 0, 0, 0, 0, 0, 0, 0, 0, 0, 0, 0, 0, 0, 0, 0, 0, 0, 0, 0, 0, 0, 0, 0, 0, 0, 0, 0, 0, 0, 0, 0, 0, 0, 0, 0, 0, 0, 0, 0, 0, 0, 0, 0, 0, 0, 0, 0, 0, 0, 0, 0, 0, 0, 0, 0, 0, 0, 0, 0, 0, 0, 0, 0, 0, 0, 0, 0, 0, 0, 0, 0, 0, 0, 0, 0, 0, 0, 0, 0, 0, 0, 0, 0, 0, 0, 0, 0, 0, 0, 0, 0, 0, 0, 0, 0, 0, 0, 0, 0, 0, 0, 0, 0, 0, 0, 0, 0, 0, 0, 0, 0, 0, 0, 0, 0, 0, 0, 0, 0, 0, 0, 0, 0, 0, 0, 0, 0, 0, 0, 0, 0, 0, 0, 0, 0, 0, 0, 0, 0, 0, 0, 0, 0, 0, 0, 0, 0, 0, 0, 0, 0, 0, 0, 0, 0, 0, 0, 0, 0, 0, 0, 0, 0, 0, 0, 0, 0, 0, 0, 0, 0, 0, 0, 0, 0, 0, 0, 0, 0, 0, 0, 0, 0, 0, 0, 0, 0, 0, 0, 0, 0, 0, 0, 0, 0, 0, 0, 0, 0, 0, 0, 0, 0, 0, 0, 0, 0, 0, 0, 0, 0, 0, 0, 0, 0, 0, 0, 0, 0, 0, 0, 0, 0, 0, 0, 0, 0, 0, 0, 0, 0, 0, 0, 0, 0, 0, 0, 0, 0, 0, 0, 0, 0, 0, 0, 0, 0, 0, 0, 0, 0, 0, 0, 0, 0, 0, 0, 0, 0, 0, 0, 0, 0, 0, 0, 0, 0, 0, 0, 0, 0, 0, 0, 0, 0, 0, 0, 0, 0, 0, 0, 0, 0, 0, 0, 0, 0, 0, 0, 0, 0, 0, 0, 0, 0, 0, 0, 0, 0, 0, 0, 0, 0, 0, 0, 0, 0, 0, 0, 0, 0, 0, 0, 0, 0, 0, 0, 0, 0, 0, 0, 0, 0, 0, 0, 0, 0, 0, 0, 0, 0, 0], [1, 1, 1, 1, 1, 1, 1, 1, 1, 1, 1, 1, 1, 1, 1, 1, 1, 1, 1, 1, 1, 1, 1, 1, 1, 1, 1, 1, 1, 1, 1, 1, 1, 1, 1, 1, 1, 1, 1, 1, 1, 1, 1, 1, 1, 1, 1, 1, 1, 1, 1, 1, 1, 1, 1, 1, 1, 1, 1, 1, 1, 1, 1, 1, 1, 1, 1, 1, 1, 1, 1, 1, 1, 1, 1, 1, 1, 1, 1, 1, 1, 1, 1, 1, 1, 1, 1, 1, 1, 1, 1, 1, 1, 1, 1, 1, 1, 1, 1, 1, 1, 1, 1, 1, 1, 1, 1, 1, 1, 1, 1, 1, 1, 1, 1, 1, 1, 1, 1, 1, 1, 1, 1, 1, 1, 1, 1, 1, 1, 1, 1, 1, 1, 1, 1, 1, 1, 1, 1, 1, 1, 1, 1, 1, 1, 1, 1, 1, 1, 1, 1, 1, 1, 1, 1, 1, 1, 1, 1, 1, 1, 1, 1, 1, 1, 1, 1, 1, 1, 1, 1, 1, 1, 1, 1, 1, 1, 1, 1, 1, 1, 1, 1, 1, 1, 1, 1, 1, 1, 1, 1, 1, 1, 1, 1, 1, 1, 1, 1, 1, 1, 1, 1, 1, 1, 1, 1, 1, 1, 1, 1, 1, 1, 1, 1, 1, 1, 1, 1, 1, 1, 1, 1, 1, 1, 1, 1, 1, 1, 1, 1, 1, 1, 1, 1, 1, 1, 1, 1, 1, 1, 1, 1, 1, 1, 1, 1, 1, 1, 1, 1, 1, 1, 1, 1, 1, 1, 1, 1, 1, 1, 1, 1, 1, 1, 1, 1, 1, 1, 1, 1, 1, 1, 1, 1, 1, 1, 1, 1, 1, 1, 1, 1, 1, 1, 1, 1, 1, 1, 1, 1, 1, 1, 1, 1, 1, 1, 1, 1, 1, 1, 1, 1, 1, 1, 1, 1, 1, 1, 1, 1, 1, 1, 1, 1, 1, 1, 1, 1, 1, 1, 1, 1, 1, 1, 1, 1, 1, 1, 1, 1, 1, 1, 1, 1, 1, 1, 1, 1, 1, 1, 1, 1, 1, 1, 1, 1, 1, 1, 1, 1, 1, 1, 1, 1, 1, 1, 1, 1, 1, 1, 1, 1, 1, 1, 1, 1, 1, 1, 1, 1, 1, 1, 1, 1, 1, 1, 1, 1, 1, 1, 1, 1, 1, 1, 1, 1, 1, 1, 1, 1, 1, 1, 1, 1, 1, 1, 1, 1, 1, 1, 1, 1, 1, 1, 1, 1, 1, 1, 1, 1, 1, 1, 1, 1, 1, 1, 1, 1, 1, 1, 1, 1, 1, 1, 1, 1, 1, 1, 1, 1, 1, 1, 1, 1, 1, 1, 1, 1, 1, 1, 1, 1, 1, 1, 1, 1, 1, 1, 1, 1, 1, 1, 1, 1, 1, 1, 1, 1, 1, 1, 1, 1, 1, 1, 1, 1, 1, 1, 1, 1, 1, 1, 1, 1, 1, 1, 1, 1, 1, 1, 1, 1, 1, 1, 1, 1, 1, 1, 1, 1, 1, 1, 1, 1, 1, 1, 1, 1, 1, 1, 1, 1, 1, 1, 1, 1, 1, 1, 1, 1, 1, 1, 1, 1, 1, 1, 1, 1, 1, 1, 1, 1, 1, 1, 1, 1, 1, 1, 1, 1, 1, 1, 1, 1, 1, 1, 1, 1, 1, 1, 1, 1, 1, 1, 1, 1, 1, 1, 1, 1, 1, 1, 1, 1, 1, 1, 1, 1, 1, 1, 1, 1, 1, 1, 1, 1, 1, 1, 1, 1, 1, 1, 1, 1, 1, 1, 1, 1, 1, 1, 1, 1, 1, 1, 1, 1, 1, 1, 1, 1, 1, 1, 1, 1, 1, 1, 1, 1, 1, 1, 1, 1, 1, 1, 1, 1, 1, 1, 1, 1, 1, 1, 1, 1, 1, 1, 1, 1, 1, 1, 1, 1, 1, 1, 1, 1, 1, 1, 1, 1, 1, 1, 1, 1, 1, 1, 1, 1, 1, 1, 1, 1, 1, 1, 1, 1, 1, 1, 1, 1, 1, 1, 1, 1, 1, 1, 1, 1, 1, 1, 1, 1, 1, 1, 1, 1, 1, 1, 1, 1, 1, 1, 1, 1, 1, 1, 1, 1, 1, 1, 1, 1, 1, 1, 1, 1, 1, 1, 1, 1, 1, 1, 1, 1, 1, 1, 1, 1, 1, 1, 1, 1, 1, 1, 1, 1, 1, 1, 1, 1, 1, 1, 1, 1, 1, 1, 1, 1, 1, 1, 1, 1, 1, 1, 1, 1, 1, 1, 1, 1, 1, 1, 1, 1, 1, 1, 1, 1, 1, 1, 1, 1, 1, 1, 1, 1, 1, 1, 1, 1, 1, 1, 1, 1, 1, 1, 1, 1, 1, 1, 1, 1, 1, 1, 1, 1, 1, 1, 1, 1, 1, 1, 1, 1, 1, 1, 1, 1, 1, 1, 1, 1, 1, 1, 1, 1, 1, 1, 1, 1, 1, 1, 1, 1, 1, 1, 1, 1, 1, 1, 1, 1, 1, 1, 1, 1, 1, 1, 1, 1, 1, 1, 1, 1, 1, 1, 1, 1, 1, 1, 1, 1, 1, 1, 1, 1, 1, 1, 1, 1, 1, 1, 1, 1, 1, 1, 1, 1, 1, 1, 1, 1, 1, 1, 1, 1, 1, 1, 1, 1, 1, 1, 1, 1, 1, 1, 1, 1, 1, 1, 1, 1, 1, 1, 1, 1, 1, 1, 1, 1, 1, 1, 1, 1, 1, 1, 1, 1, 1, 1, 1, 1, 1, 1, 1, 1, 1, 1, 1, 1, 1, 1, 1, 1, 1, 1, 1, 1, 1, 1, 1, 1, 1, 1, 1, 1, 1, 1, 1, 1, 1, 1, 1, 1, 1, 1, 1, 1, 1, 1, 1, 1, 1, 1, 1, 1, 1, 1, 1, 1, 1, 1, 1, 1, 1, 1, 1, 1, 1, 1, 1, 1, 1, 1, 1, 1, 1, 1, 1, 1, 1, 1, 1, 1, 1, 1, 1, 1, 1, 1, 1, 1, 1, 1, 1, 1, 1, 1, 1, 1, 1, 1, 1]], 'labels': [[1983, 127, 18, 24346, 18, 1408, 343, 4804, 9, 325, 2703, 1063, 89, 56, 150, 1200, 522, 12710, 3991, 147, 3, 9, 1762, 5415, 44, 112, 1181, 18, 13843, 138, 26, 2523, 768, 2545, 5, 1], [16117, 2488, 3, 18540, 2487, 969, 29, 56, 96, 31106, 59, 121, 719, 10256, 274, 416, 471, 31, 7, 7889, 4356, 6, 1485, 3271, 1184, 25269, 6193, 65, 243, 5, 1]]}"
            ]
          },
          "metadata": {},
          "execution_count": 83
        }
      ],
      "source": [
        "preprocess_samples(raw_datasets[\"train\"][:2])"
      ]
    },
    {
      "cell_type": "markdown",
      "metadata": {
        "id": "zS-6iXTkIrJT"
      },
      "source": [
        "We will apply the `map` method of our `raw_datasets` object we created earlier. This will apply the function on all the elements of all the splits in `dataset`, so our training, validation and testing data will be preprocessed in one single command."
      ]
    },
    {
      "cell_type": "code",
      "execution_count": 84,
      "metadata": {
        "colab": {
          "base_uri": "https://localhost:8080/",
          "height": 81,
          "referenced_widgets": [
            "7bb38e6e40604adabed4ae4377ec3449",
            "6f19392a09034ab5aa812f592c4047e8",
            "57e9799113564a24accf72bda3970bee",
            "2830409736a1448eaeff2d5fc14078bc",
            "77f940725e3440229cfd489c9be35343",
            "4beee923b95547ac876b5e98b1a11683",
            "6cd61e0cf4b04c2694fe6108c0e1ada6",
            "f86dbd5171f643309f46924a4dccc023",
            "1e9e47118dc541cfa781bb64bdde88c4",
            "242fa8594fca4b8b8b2f0d40b836a43f",
            "61e433e3ef3c4451b79d7dd24a24e50a",
            "361f75e6b9cf46b4806fc7c334311297",
            "5aa28bd3ca784b96b2ab9cf96cb478df",
            "010b25ee71074101b8421b9670e5c825",
            "98fb9246556743ca9716e7fef9df768c",
            "c9af97b290b047a9b3f4d9182a3fa997",
            "29f2a06ac38b46b888ae6364dd47027b",
            "21af7cd9da784e6cad7e47f2f8281f20",
            "e78ddad48e6d40cc975547c845030881",
            "68a4adcac18d42daa4cf824d1ee056db",
            "94cb3e12195145c0876855b8a41b5ce8",
            "ce9f6150cd934a7abc588ff91e234b09"
          ]
        },
        "id": "DDtsaJeVIrJT",
        "outputId": "442b485d-ede5-49bb-ce57-e0e99a1b8ca0"
      },
      "outputs": [
        {
          "output_type": "display_data",
          "data": {
            "text/plain": [
              "Map:   0%|          | 0/849 [00:00<?, ? examples/s]"
            ],
            "application/vnd.jupyter.widget-view+json": {
              "version_major": 2,
              "version_minor": 0,
              "model_id": "7bb38e6e40604adabed4ae4377ec3449"
            }
          },
          "metadata": {}
        },
        {
          "output_type": "display_data",
          "data": {
            "text/plain": [
              "Map:   0%|          | 0/284 [00:00<?, ? examples/s]"
            ],
            "application/vnd.jupyter.widget-view+json": {
              "version_major": 2,
              "version_minor": 0,
              "model_id": "361f75e6b9cf46b4806fc7c334311297"
            }
          },
          "metadata": {}
        }
      ],
      "source": [
        "preprocessed_datasets = raw_datasets.map(preprocess_samples, batched=True)"
      ]
    },
    {
      "cell_type": "markdown",
      "metadata": {
        "id": "voWiw8C7IrJV"
      },
      "source": [
        "The outcomes are automatically stored in the 🤗 Datasets library's cache, so that processing does not need to be repeated. If you need to reapply preprocessing, you can include `load_from_cache_file=False` in the map function call.\n",
        "\n",
        "We specified `batched=True `to encode texts in batches which employs multi-threading."
      ]
    },
    {
      "cell_type": "markdown",
      "metadata": {
        "id": "545PP3o8IrJV"
      },
      "source": [
        "## Fine-tuning T5"
      ]
    },
    {
      "cell_type": "markdown",
      "metadata": {
        "id": "FBiW8UpKIrJW"
      },
      "source": [
        "We will now download the pretrained model and fine-tune it. Since our task is sequence-to-sequence, we use the `AutoModelForSeq2SeqLM` class."
      ]
    },
    {
      "cell_type": "code",
      "execution_count": 85,
      "metadata": {
        "colab": {
          "base_uri": "https://localhost:8080/"
        },
        "id": "TlqNaB8jIrJW",
        "outputId": "1e851bbc-5a94-41ea-fc35-7b5eb129c04e"
      },
      "outputs": [
        {
          "output_type": "stream",
          "name": "stderr",
          "text": [
            "All PyTorch model weights were used when initializing TFT5ForConditionalGeneration.\n",
            "\n",
            "All the weights of TFT5ForConditionalGeneration were initialized from the PyTorch model.\n",
            "If your task is similar to the task the model of the checkpoint was trained on, you can already use TFT5ForConditionalGeneration for predictions without further training.\n"
          ]
        }
      ],
      "source": [
        "from transformers import TFAutoModelForSeq2SeqLM, DataCollatorForSeq2Seq\n",
        "\n",
        "model = TFAutoModelForSeq2SeqLM.from_pretrained(model_checkpoint)"
      ]
    },
    {
      "cell_type": "markdown",
      "metadata": {
        "id": "_N8urzhyIrJY"
      },
      "source": [
        "Let's set the learning rate, `batch_size` and customise the weight decay."
      ]
    },
    {
      "cell_type": "code",
      "execution_count": 86,
      "metadata": {
        "id": "Bliy8zgjIrJY"
      },
      "outputs": [],
      "source": [
        "batch_size = 8\n",
        "learning_rate = 2e-5\n",
        "weight_decay = 0.01\n",
        "num_train_epochs = 1\n",
        "\n",
        "model_name = model_checkpoint.split(\"/\")[-1]\n",
        "push_to_hub_model_id = f\"{model_name}-finetuned-xsum\""
      ]
    },
    {
      "cell_type": "markdown",
      "metadata": {
        "id": "km3pGVdTIrJc"
      },
      "source": [
        "Next, we build a data collator that pads the inputs to the batch's maximum length for both inputs ans targets. Make sure to set the `return_tensors='np'` argument to obtain NumPy arrays. Our TensorFlow dataset pipeline internally employs a NumPy loader, wrapped with a tf.data.Dataset at the end. Additionally, np is required by the ROUGE metrics.\n",
        "\n",
        "\n",
        "To speed up GPU computation, we specify `pad_to_multiple_of`, which snaps the padding length to the next multiple of the given value. For example, if we pad to 250 but pad_to_multiple_of=8 then we will pad to 256."
      ]
    },
    {
      "cell_type": "code",
      "execution_count": 87,
      "metadata": {
        "id": "FKXh83ELYcZA"
      },
      "outputs": [],
      "source": [
        "data_collator = DataCollatorForSeq2Seq(tokenizer, model=model, return_tensors=\"np\")\n",
        "\n",
        "generation_data_collator = DataCollatorForSeq2Seq(tokenizer, model=model, return_tensors=\"np\", pad_to_multiple_of=128)"
      ]
    },
    {
      "cell_type": "markdown",
      "metadata": {
        "id": "5T5v6pKzYcZB"
      },
      "source": [
        "We will convert our datasets into tf.data.Dataset, to be able to work with Keras. We will use Model.prepare_tf_dataset() to avoid manual specification. We re-use the collator we created earlier as our `collate_fn`."
      ]
    },
    {
      "cell_type": "code",
      "execution_count": 88,
      "metadata": {
        "id": "5aDeWqRhYcZB"
      },
      "outputs": [],
      "source": [
        "train_dataset = model.prepare_tf_dataset(\n",
        "    preprocessed_datasets[\"train\"],\n",
        "    batch_size=batch_size,\n",
        "    shuffle=True,\n",
        "    collate_fn=data_collator,\n",
        ")\n",
        "\n",
        "validation_dataset = model.prepare_tf_dataset(\n",
        "    preprocessed_datasets[\"validation\"],\n",
        "    batch_size=batch_size,\n",
        "    shuffle=False,\n",
        "    collate_fn=data_collator,\n",
        ")"
      ]
    },
    {
      "cell_type": "markdown",
      "metadata": {
        "id": "PogiTEg4YcZB"
      },
      "source": [
        "Now we initialise our loss and optimizer and compile the model. Note that most Transformers models compute loss internally, so we do not need to specify any loss when we `compile()`."
      ]
    },
    {
      "cell_type": "code",
      "execution_count": 89,
      "metadata": {
        "id": "648Y3FOmYcZB"
      },
      "outputs": [],
      "source": [
        "from transformers import AdamWeightDecay\n",
        "import tensorflow as tf\n",
        "\n",
        "optimizer = AdamWeightDecay(learning_rate=learning_rate, weight_decay_rate=weight_decay)\n",
        "model.compile(optimizer=optimizer)"
      ]
    },
    {
      "cell_type": "markdown",
      "metadata": {
        "id": "7sZOdRlRIrJd"
      },
      "source": [
        "Finally, we can train our model. KerasMetricCallback is a callback for computing advanced metrics. The callback takes two main arguments: `metric_fn` and `eval_dataset`. It then iterates the `eval_dataset` and collects the model's outputs for each sample. As a result, the callback passes the `list` of predictions and the associated `list` of targets to the user-defined `metric_fn`. If the `predict_with_generate` argument is `True`, then it will call `model.generate()`. This is useful for metrics like `ROUGE`.\n",
        "\n",
        "Complete the `compute_metrics` below to decode output batches and compute ROUGE (**Hint**: you can use `tokenizer.batch_decode` and `metric.compute`)."
      ]
    },
    {
      "cell_type": "code",
      "execution_count": 90,
      "metadata": {
        "id": "6Fq_0qypYcZC",
        "colab": {
          "base_uri": "https://localhost:8080/"
        },
        "outputId": "6b47306a-cb7a-4fff-da1e-366e91209c1b"
      },
      "outputs": [
        {
          "output_type": "stream",
          "name": "stderr",
          "text": [
            "/usr/local/lib/python3.10/dist-packages/datasets/load.py:753: FutureWarning: The repository for rouge contains custom code which must be executed to correctly load the metric. You can inspect the repository content at https://raw.githubusercontent.com/huggingface/datasets/2.17.1/metrics/rouge/rouge.py\n",
            "You can avoid this message in future by passing the argument `trust_remote_code=True`.\n",
            "Passing `trust_remote_code=True` will be mandatory to load this metric from the next major release of `datasets`.\n",
            "  warnings.warn(\n"
          ]
        }
      ],
      "source": [
        "import numpy as np\n",
        "import nltk\n",
        "from datasets import load_metric\n",
        "\n",
        "# Loading the ROUGE metric\n",
        "rouge = load_metric(\"rouge\")\n",
        "\n",
        "def compute_metrics(eval_predictions):\n",
        "\n",
        "    model_predictions, true_labels = eval_predictions\n",
        "\n",
        "    # Substitute masked true label tokens\n",
        "    for label in true_labels:\n",
        "        label[label < 0] = tokenizer.pad_token_id\n",
        "\n",
        "    # TO DO\n",
        "    decoded_predictions = tokenizer.batch_decode(model_predictions, skip_special_tokens=True)\n",
        "    decoded_labels = tokenizer.batch_decode(true_labels, skip_special_tokens=True)\n",
        "    # TO DO\n",
        "\n",
        "    # Rouge expects a newline after each sentence\n",
        "    decoded_predictions = [\n",
        "        \"\\n\".join(nltk.sent_tokenize(pred.strip())) for pred in decoded_predictions\n",
        "    ]\n",
        "    decoded_targets = [\n",
        "        \"\\n\".join(nltk.sent_tokenize(label.strip())) for label in decoded_labels\n",
        "    ]\n",
        "\n",
        "    # TO DO\n",
        "    rouge_results = rouge.compute(predictions=decoded_predictions, references=decoded_labels)\n",
        "    # TO DO\n",
        "\n",
        "    # Extract relevant results\n",
        "    rouge_results = {key: value.mid.fmeasure * 100 for key, value in rouge_results.items()}\n",
        "\n",
        "    # Include mean generated length\n",
        "    prediction_lengths = [\n",
        "        np.count_nonzero(pred != tokenizer.pad_token_id) for pred in model_predictions\n",
        "    ]\n",
        "    rouge_results[\"gen_len\"] = np.mean(prediction_lengths)\n",
        "\n",
        "    return rouge_results\n"
      ]
    },
    {
      "cell_type": "markdown",
      "metadata": {
        "id": "pAINqqR_YcZC"
      },
      "source": [
        "We will train our model now. We only do a single epoch, as inputs are very long and even one epoch can take a while."
      ]
    },
    {
      "cell_type": "code",
      "execution_count": 91,
      "metadata": {
        "colab": {
          "base_uri": "https://localhost:8080/"
        },
        "id": "PCdaWBgfDN7v",
        "outputId": "5446bbfd-3bc2-4512-bfea-b1a8d60799e0"
      },
      "outputs": [
        {
          "output_type": "stream",
          "name": "stderr",
          "text": [
            "[nltk_data] Downloading package punkt to /root/nltk_data...\n",
            "[nltk_data]   Package punkt is already up-to-date!\n"
          ]
        },
        {
          "output_type": "execute_result",
          "data": {
            "text/plain": [
              "True"
            ]
          },
          "metadata": {},
          "execution_count": 91
        }
      ],
      "source": [
        "import nltk\n",
        "nltk.download('punkt')"
      ]
    },
    {
      "cell_type": "code",
      "execution_count": 92,
      "metadata": {
        "id": "Uv_4DBb-YcZC",
        "scrolled": false,
        "colab": {
          "base_uri": "https://localhost:8080/"
        },
        "outputId": "7eb9b0bb-9628-42ad-891d-7235abe2ed38"
      },
      "outputs": [
        {
          "output_type": "stream",
          "name": "stdout",
          "text": [
            "  6/106 [>.............................] - ETA: 1:06 - loss: 4.0617"
          ]
        },
        {
          "output_type": "stream",
          "name": "stderr",
          "text": [
            "WARNING:tensorflow:Callback method `on_train_batch_end` is slow compared to the batch time (batch time: 0.3182s vs `on_train_batch_end` time: 0.3430s). Check your callbacks.\n"
          ]
        },
        {
          "output_type": "stream",
          "name": "stdout",
          "text": [
            "106/106 [==============================] - ETA: 0s - loss: 3.4227"
          ]
        },
        {
          "output_type": "stream",
          "name": "stderr",
          "text": [
            "/usr/local/lib/python3.10/dist-packages/transformers/generation/tf_utils.py:838: UserWarning: Using the model-agnostic default `max_length` (=20) to control the generation length.  recommend setting `max_new_tokens` to control the maximum length of the generation.\n",
            "  warnings.warn(\n"
          ]
        },
        {
          "output_type": "stream",
          "name": "stdout",
          "text": [
            "\b\b\b\b\b\b\b\b\b\b\b\b\b\b\b\b\b\b\b\b\b\b\b\b\b\b\b\b\b\b\b\b\b\b\b\b\b\b\b\b\b\b\b\b\b\b\b\b\b\b\b\b\b\b\b\b\b\b\b\b\b\b\b\b\b\r106/106 [==============================] - 229s 2s/step - loss: 3.4227 - rouge1: 18.0725 - rouge2: 3.0025 - rougeL: 14.5640 - rougeLsum: 14.6160 - gen_len: 18.8556\n"
          ]
        },
        {
          "output_type": "execute_result",
          "data": {
            "text/plain": [
              "<keras.src.callbacks.History at 0x7fbe56764df0>"
            ]
          },
          "metadata": {},
          "execution_count": 92
        }
      ],
      "source": [
        "from transformers.keras_callbacks import PushToHubCallback, KerasMetricCallback\n",
        "\n",
        "metric_callback = KerasMetricCallback(\n",
        "    compute_metrics, eval_dataset=validation_dataset, predict_with_generate=True\n",
        ")\n",
        "\n",
        "callbacks = [metric_callback]\n",
        "\n",
        "model.fit(\n",
        "    train_dataset, epochs=1, callbacks=callbacks)"
      ]
    },
    {
      "cell_type": "markdown",
      "metadata": {
        "id": "wWECF4QBYcZD"
      },
      "source": [
        "## Inference"
      ]
    },
    {
      "cell_type": "markdown",
      "metadata": {
        "id": "qLlgZvxrYcZE"
      },
      "source": [
        "**Let**'s try now to summarise a document using our model. Do not forget to prepend \"summarize: \" to the input."
      ]
    },
    {
      "cell_type": "code",
      "execution_count": 93,
      "metadata": {
        "id": "OxZBA50vYcZE"
      },
      "outputs": [],
      "source": [
        "\n",
        "\n",
        "document = 'The full cost of damage in Newton Stewart, one of the areas worst affected, is still being assessed.\\nRepair work is ongoing in Hawick and many roads in Peeblesshire remain badly affected by standing water.\\nTrains on the west coast mainline face disruption due to damage at the Lamington Viaduct.\\nMany businesses and householders were affected by flooding in Newton Stewart after the River Cree overflowed into the town.\\nFirst Minister Nicola Sturgeon visited the area to inspect the damage.\\nThe waters breached a retaining wall, flooding many commercial properties on Victoria Street - the main shopping thoroughfare.\\nJeanette Tate, who owns the Cinnamon Cafe which was badly affected, said she could not fault the multi-agency response once the flood hit.\\nHowever, she said more preventative work could have been carried out to ensure the retaining wall did not fail.\\n\"It is difficult but I do think there is so much publicity for Dumfries and the Nith - and I totally appreciate that - but it is almost like we\\'re neglected or forgotten,\" she said.\\n\"That may not be true but it is perhaps my perspective over the last few days.\\n\"Why were you not ready to help us a bit more when the warning and the alarm alerts had gone out?\"\\nMeanwhile, a flood alert remains in place across the Borders because of the constant rain.\\nPeebles was badly hit by problems, sparking calls to introduce more defences in the area.\\nScottish Borders Council has put a list on its website of the roads worst affected and drivers have been urged not to ignore closure signs.\\nThe Labour Party\\'s deputy Scottish leader Alex Rowley was in Hawick on Monday to see the situation first hand.\\nHe said it was important to get the flood protection plan right but backed calls to speed up the process.\\n\"I was quite taken aback by the amount of damage that has been done,\" he said.\\n\"Obviously it is heart-breaking for people who have been forced out of their homes and the impact on businesses.\"\\nHe said it was important that \"immediate steps\" were taken to protect the areas most vulnerable and a clear timetable put in place for flood prevention plans.'\n",
        "summary = 'Severe flooding in Newton Stewart and surrounding areas has caused extensive damage, ongoing repair efforts, disruptions to transportation, and calls for improved flood prevention measures, prompting visits from First Minister Nicola Sturgeon and concerns from local businesses and residents.'\n",
        "# Prepare the text to be summarized by the model\n",
        "input_text = \"summarize: \" + document\n",
        "tokenized = tokenizer(input_text, return_tensors='tf', truncation=True , max_length=1024)\n",
        "# Generate the summary with the model\n",
        "out = model.generate(inputs['input_ids'], attention_mask=inputs['attention_mask'], max_length=150, length_penalty=2.0, num_beams=4, early_stopping=True)\n"
      ]
    },
    {
      "cell_type": "code",
      "execution_count": 94,
      "metadata": {
        "id": "eYJsZ5ymYcZE",
        "colab": {
          "base_uri": "https://localhost:8080/"
        },
        "outputId": "ff727560-61db-42e4-c22f-4fe1695e40b8"
      },
      "outputs": [
        {
          "output_type": "stream",
          "name": "stdout",
          "text": [
            "The full cost of damage in Newton Stewart is still being assessed. many roads in Peeblesshire remain badly affected by flooding.\n"
          ]
        }
      ],
      "source": [
        "out_ft = tokenizer.decode(out[0], skip_special_tokens=True)\n",
        "print(out_ft)"
      ]
    },
    {
      "cell_type": "markdown",
      "metadata": {
        "id": "wm-qPxMCYcZG"
      },
      "source": [
        "## Pipeline API"
      ]
    },
    {
      "cell_type": "markdown",
      "metadata": {
        "id": "PzEEVYGLYcZH"
      },
      "source": [
        "The pipeline API provides a convienient shortcut to many procedures. Let's use it to generate a summary with the non fine-tuned model."
      ]
    },
    {
      "cell_type": "code",
      "execution_count": 95,
      "metadata": {
        "colab": {
          "base_uri": "https://localhost:8080/"
        },
        "id": "nePaqVQGYcZH",
        "outputId": "2777c227-d635-49f7-9206-63e56bfed5fa"
      },
      "outputs": [
        {
          "output_type": "stream",
          "name": "stderr",
          "text": [
            "All PyTorch model weights were used when initializing TFT5ForConditionalGeneration.\n",
            "\n",
            "All the weights of TFT5ForConditionalGeneration were initialized from the PyTorch model.\n",
            "If your task is similar to the task the model of the checkpoint was trained on, you can already use TFT5ForConditionalGeneration for predictions without further training.\n"
          ]
        }
      ],
      "source": [
        "from transformers import pipeline\n",
        "\n",
        "# we will use the initial T5 checkpoint we downloaded before fine-tuning\n",
        "summarizer = pipeline('text2text-generation', model_checkpoint, framework=\"tf\")"
      ]
    },
    {
      "cell_type": "markdown",
      "metadata": {
        "id": "yvFvNJlXYcZH"
      },
      "source": [
        "**Task 2: Compare performance of the fine-tuned model to generic output**\n",
        "\n",
        "Summarise the document provided above using the generic model (no fine-tuning). Compute ROUGE scores and comment on the efficiency of fine-tuning."
      ]
    },
    {
      "cell_type": "code",
      "execution_count": 96,
      "metadata": {
        "id": "ESd93a7eYcZH",
        "colab": {
          "base_uri": "https://localhost:8080/"
        },
        "outputId": "84025bda-a9ba-4751-deef-45897c1dc991"
      },
      "outputs": [
        {
          "output_type": "stream",
          "name": "stdout",
          "text": [
            "the flood protection plan was right but backed calls to speed up the process . the full cost of damage in Newton Stewart is still being assessed . many roads in Peeblesshire remain badly affected by standing water .\n"
          ]
        }
      ],
      "source": [
        "out = summarizer(document, max_length=128)\n",
        "out_zero_shot = out[0]['generated_text']\n",
        "print(out_zero_shot)"
      ]
    },
    {
      "cell_type": "code",
      "execution_count": 97,
      "metadata": {
        "id": "xmdbgltrfXfP",
        "colab": {
          "base_uri": "https://localhost:8080/"
        },
        "outputId": "33a69a7d-7629-48d8-a963-4308142f7aab"
      },
      "outputs": [
        {
          "output_type": "execute_result",
          "data": {
            "text/plain": [
              "{'rouge1': AggregateScore(low=Score(precision=0.23809523809523808, recall=0.1282051282051282, fmeasure=0.16666666666666666), mid=Score(precision=0.23809523809523808, recall=0.1282051282051282, fmeasure=0.16666666666666666), high=Score(precision=0.23809523809523808, recall=0.1282051282051282, fmeasure=0.16666666666666666)),\n",
              " 'rouge2': AggregateScore(low=Score(precision=0.1, recall=0.05263157894736842, fmeasure=0.06896551724137931), mid=Score(precision=0.1, recall=0.05263157894736842, fmeasure=0.06896551724137931), high=Score(precision=0.1, recall=0.05263157894736842, fmeasure=0.06896551724137931)),\n",
              " 'rougeL': AggregateScore(low=Score(precision=0.14285714285714285, recall=0.07692307692307693, fmeasure=0.1), mid=Score(precision=0.14285714285714285, recall=0.07692307692307693, fmeasure=0.1), high=Score(precision=0.14285714285714285, recall=0.07692307692307693, fmeasure=0.1)),\n",
              " 'rougeLsum': AggregateScore(low=Score(precision=0.14285714285714285, recall=0.07692307692307693, fmeasure=0.1), mid=Score(precision=0.14285714285714285, recall=0.07692307692307693, fmeasure=0.1), high=Score(precision=0.14285714285714285, recall=0.07692307692307693, fmeasure=0.1))}"
            ]
          },
          "metadata": {},
          "execution_count": 97
        }
      ],
      "source": [
        "metric.compute(predictions=[out_ft], references=[summary])"
      ]
    },
    {
      "cell_type": "code",
      "execution_count": 98,
      "metadata": {
        "id": "3qSmKrhKj19G",
        "colab": {
          "base_uri": "https://localhost:8080/"
        },
        "outputId": "674febff-dbae-4c6f-b299-272c61eab34b"
      },
      "outputs": [
        {
          "output_type": "execute_result",
          "data": {
            "text/plain": [
              "{'rouge1': AggregateScore(low=Score(precision=0.19444444444444445, recall=0.1794871794871795, fmeasure=0.18666666666666665), mid=Score(precision=0.19444444444444445, recall=0.1794871794871795, fmeasure=0.18666666666666665), high=Score(precision=0.19444444444444445, recall=0.1794871794871795, fmeasure=0.18666666666666665)),\n",
              " 'rouge2': AggregateScore(low=Score(precision=0.05714285714285714, recall=0.05263157894736842, fmeasure=0.05479452054794521), mid=Score(precision=0.05714285714285714, recall=0.05263157894736842, fmeasure=0.05479452054794521), high=Score(precision=0.05714285714285714, recall=0.05263157894736842, fmeasure=0.05479452054794521)),\n",
              " 'rougeL': AggregateScore(low=Score(precision=0.08333333333333333, recall=0.07692307692307693, fmeasure=0.08), mid=Score(precision=0.08333333333333333, recall=0.07692307692307693, fmeasure=0.08), high=Score(precision=0.08333333333333333, recall=0.07692307692307693, fmeasure=0.08)),\n",
              " 'rougeLsum': AggregateScore(low=Score(precision=0.08333333333333333, recall=0.07692307692307693, fmeasure=0.08), mid=Score(precision=0.08333333333333333, recall=0.07692307692307693, fmeasure=0.08), high=Score(precision=0.08333333333333333, recall=0.07692307692307693, fmeasure=0.08))}"
            ]
          },
          "metadata": {},
          "execution_count": 98
        }
      ],
      "source": [
        "metric.compute(predictions=[out_zero_shot], references=[summary])"
      ]
    },
    {
      "cell_type": "markdown",
      "metadata": {
        "id": "4SESDgHq_qMB"
      },
      "source": [
        "## Textual data generation using keywords\n",
        "\n",
        "\n",
        "One possible way to generate new text for data augmentation is to guide the generation of new text using keywords extracted from original data. In this task, you will fine-tune T5 to generate new text based on keywords extracted from the original summaries of the XSum dataset you have seen in the first part of this lab.  Fine-tuning T5 on such a task would leverage the model capabilities to produce new text that captures the core meaning of the original based on the provided keywords."
      ]
    },
    {
      "cell_type": "markdown",
      "metadata": {
        "id": "RaS34d9_vf9x"
      },
      "source": [
        "**Task 3: Build and evaluate a T5-based model for data generation using keywords.**\n",
        "\n",
        "Complete the `preprocess_samples_data_gen` below to extract 10 random words from each summary. Those ten random words will be further tokenised and used as inputs to T5. Note that in this task you do not need to prepend \"summarize: \"."
      ]
    },
    {
      "cell_type": "code",
      "execution_count": 99,
      "metadata": {
        "id": "ATPXxRUAvZgh"
      },
      "outputs": [],
      "source": [
        "def preprocess_samples_data_gen(samples):\n",
        "\n",
        "    inputs = list()\n",
        "\n",
        "    for doc in samples[\"summary\"]:\n",
        "      # TO DO\n",
        "      # Split the summary into words\n",
        "      words = doc.split()\n",
        "\n",
        "      # Randomly select 10 words or all words if there are fewer than 10\n",
        "      selected_words = random.sample(words, min(len(words), 10))\n",
        "\n",
        "      # Join these words into a string separated by spaces\n",
        "      input_str = \" \".join(selected_words)\n",
        "      inputs.append(input_str)\n",
        "\n",
        "    model_inputs = tokenizer(inputs, max_length=max_doc_len, truncation=True)\n",
        "    targets = tokenizer(text_target = samples[\"summary\"], max_length=max_sum_length, truncation=True)\n",
        "\n",
        "    model_inputs[\"labels\"] = targets[\"input_ids\"]\n",
        "\n",
        "    return model_inputs"
      ]
    },
    {
      "cell_type": "markdown",
      "metadata": {
        "id": "IimP2cz8C4iu"
      },
      "source": [
        "Now we can preprocess, collate and prepare our new dataset in the similar way we have done before."
      ]
    },
    {
      "cell_type": "code",
      "execution_count": 100,
      "metadata": {
        "id": "F_7a4T1g-tQy",
        "colab": {
          "base_uri": "https://localhost:8080/",
          "height": 81,
          "referenced_widgets": [
            "c9b0af8299fa4a37afd5840f453a1426",
            "254ed2a4b9404928a21e5e500ff73385",
            "cc54af049d504bfd9b1dfd1140845ad6",
            "a0dfb0ea9c25429c85c9642cd3f9fd35",
            "9c1c6062953440a79835393c656606aa",
            "145516735e0048ae8bc6f96e59d951bc",
            "4195feceb3c94ca3a2a4234d4dec5f72",
            "482011bf2c514146bc83652e39c4ba1c",
            "1e817511dfa240bf9c79f9a985efb809",
            "380f00b2613342ff962ae638bf1e03f7",
            "b0d1b28f38c14c8c977b1a606f1526ca",
            "0e715619c72a45fe9ba99c5cf0fd5ac4",
            "a913c182999747d9aa44a6f2e80796b3",
            "f6a036b8b893489c903d7967f44ba661",
            "e7fc90e9f31f462bb668089b1e828c33",
            "e794f5e7b98c46a0b1611b73a859a005",
            "ceed7738fc814eaba87ac838c21f7fa6",
            "544eeda49ab749f0a795889f953e3327",
            "acc138545a794dc4a08cc0b556584b1e",
            "a771bedf508a4522abb2d4e5c162ec06",
            "332426915e9348f6b735083ad8b84c69",
            "f690a0cce89b49b4a6654484812fa357"
          ]
        },
        "outputId": "342939b4-29da-4ff2-b752-158f8b62b9ad"
      },
      "outputs": [
        {
          "output_type": "display_data",
          "data": {
            "text/plain": [
              "Map:   0%|          | 0/849 [00:00<?, ? examples/s]"
            ],
            "application/vnd.jupyter.widget-view+json": {
              "version_major": 2,
              "version_minor": 0,
              "model_id": "c9b0af8299fa4a37afd5840f453a1426"
            }
          },
          "metadata": {}
        },
        {
          "output_type": "display_data",
          "data": {
            "text/plain": [
              "Map:   0%|          | 0/284 [00:00<?, ? examples/s]"
            ],
            "application/vnd.jupyter.widget-view+json": {
              "version_major": 2,
              "version_minor": 0,
              "model_id": "0e715619c72a45fe9ba99c5cf0fd5ac4"
            }
          },
          "metadata": {}
        }
      ],
      "source": [
        "preprocessed_datasets_data_gen = raw_datasets.map(preprocess_samples_data_gen, batched=True)"
      ]
    },
    {
      "cell_type": "code",
      "execution_count": 101,
      "metadata": {
        "id": "zL8IFPXQ-83A",
        "colab": {
          "base_uri": "https://localhost:8080/"
        },
        "outputId": "987ece97-b442-4913-896c-8e8053ba0dd6"
      },
      "outputs": [
        {
          "output_type": "stream",
          "name": "stderr",
          "text": [
            "All PyTorch model weights were used when initializing TFT5ForConditionalGeneration.\n",
            "\n",
            "All the weights of TFT5ForConditionalGeneration were initialized from the PyTorch model.\n",
            "If your task is similar to the task the model of the checkpoint was trained on, you can already use TFT5ForConditionalGeneration for predictions without further training.\n"
          ]
        }
      ],
      "source": [
        "from transformers import TFAutoModelForSeq2SeqLM, DataCollatorForSeq2Seq\n",
        "\n",
        "model_data_gen = TFAutoModelForSeq2SeqLM.from_pretrained(model_checkpoint)"
      ]
    },
    {
      "cell_type": "code",
      "execution_count": 102,
      "metadata": {
        "id": "3yuRHpHX-83B"
      },
      "outputs": [],
      "source": [
        "data_collator = DataCollatorForSeq2Seq(tokenizer, model=model_data_gen, return_tensors=\"np\")\n",
        "\n",
        "generation_data_collator = DataCollatorForSeq2Seq(tokenizer, model=model_data_gen, return_tensors=\"np\", pad_to_multiple_of=128)"
      ]
    },
    {
      "cell_type": "code",
      "execution_count": 103,
      "metadata": {
        "id": "hFGpSnVB-83C"
      },
      "outputs": [],
      "source": [
        "train_dataset = model.prepare_tf_dataset(\n",
        "    preprocessed_datasets_data_gen[\"train\"],\n",
        "    batch_size=batch_size,\n",
        "    shuffle=True,\n",
        "    collate_fn=data_collator,\n",
        ")\n",
        "\n",
        "validation_dataset = model.prepare_tf_dataset(\n",
        "    preprocessed_datasets_data_gen[\"validation\"],\n",
        "    batch_size=batch_size,\n",
        "    shuffle=False,\n",
        "    collate_fn=data_collator,\n",
        ")\n",
        "\n",
        "generation_dataset = model.prepare_tf_dataset(\n",
        "    preprocessed_datasets_data_gen[\"validation\"],\n",
        "    batch_size=8,\n",
        "    shuffle=False,\n",
        "    collate_fn=generation_data_collator\n",
        ")"
      ]
    },
    {
      "cell_type": "markdown",
      "metadata": {
        "id": "zuXV6Uwx-83C"
      },
      "source": [
        "Now we initialise our loss and optimizer and compile the model. Note that most Transformers models compute loss internally, so we do not need to specify any loss when we `compile()`."
      ]
    },
    {
      "cell_type": "code",
      "execution_count": 104,
      "metadata": {
        "id": "81-TDRI1-83C"
      },
      "outputs": [],
      "source": [
        "from transformers import AdamWeightDecay\n",
        "import tensorflow as tf\n",
        "\n",
        "optimizer = AdamWeightDecay(learning_rate=learning_rate, weight_decay_rate=weight_decay)\n",
        "model_data_gen.compile(optimizer=optimizer)"
      ]
    },
    {
      "cell_type": "markdown",
      "metadata": {
        "id": "0EomJnAgDLe4"
      },
      "source": [
        "We will finally fine-tune our model for five epochs."
      ]
    },
    {
      "cell_type": "code",
      "execution_count": 105,
      "metadata": {
        "id": "-HxH28LN-83D",
        "scrolled": false,
        "colab": {
          "base_uri": "https://localhost:8080/"
        },
        "outputId": "14de5eee-7f89-4da9-d983-0f16d50c8e31"
      },
      "outputs": [
        {
          "output_type": "stream",
          "name": "stdout",
          "text": [
            "Epoch 1/5\n",
            "106/106 [==============================] - 26s 96ms/step - loss: 3.8747\n",
            "Epoch 2/5\n",
            "106/106 [==============================] - 10s 97ms/step - loss: 3.4780\n",
            "Epoch 3/5\n",
            "106/106 [==============================] - 10s 92ms/step - loss: 3.3189\n",
            "Epoch 4/5\n",
            "106/106 [==============================] - 10s 96ms/step - loss: 3.2293\n",
            "Epoch 5/5\n",
            "106/106 [==============================] - 10s 98ms/step - loss: 3.1558\n"
          ]
        },
        {
          "output_type": "execute_result",
          "data": {
            "text/plain": [
              "<keras.src.callbacks.History at 0x7fbc305fbbe0>"
            ]
          },
          "metadata": {},
          "execution_count": 105
        }
      ],
      "source": [
        "from transformers.keras_callbacks import PushToHubCallback, KerasMetricCallback\n",
        "model_data_gen.fit(\n",
        "    train_dataset, epochs=5)"
      ]
    },
    {
      "cell_type": "markdown",
      "metadata": {
        "id": "Q_5RqQHK-83E"
      },
      "source": [
        "Let's try now to generate a document using pre-set keywords. We again do not need to prepend the 'summarize:' prompt."
      ]
    },
    {
      "cell_type": "code",
      "execution_count": 106,
      "metadata": {
        "id": "EuNzccEx-83E"
      },
      "outputs": [],
      "source": [
        "document = 'damage ongoing Hawick disruption Lamington viaduct commercial thoroughfare multi-agency neglected'\n",
        "\n",
        "tokenized = tokenizer([document], return_tensors='np')\n",
        "out = model_data_gen.generate(**tokenized, max_length=128)"
      ]
    },
    {
      "cell_type": "code",
      "execution_count": 107,
      "metadata": {
        "id": "oXRQT17K-83E",
        "colab": {
          "base_uri": "https://localhost:8080/"
        },
        "outputId": "904cf3b2-53cf-46e8-881a-e3937a22060d"
      },
      "outputs": [
        {
          "output_type": "stream",
          "name": "stdout",
          "text": [
            "Hawick has been disrupted by a major disruption to the commercial thoroughfare of Lamington viaducts.\n"
          ]
        }
      ],
      "source": [
        "out_ft = tokenizer.decode(out[0], skip_special_tokens=True)\n",
        "print(out_ft)"
      ]
    }
  ],
  "metadata": {
    "colab": {
      "provenance": [],
      "gpuType": "T4"
    },
    "kernelspec": {
      "display_name": "Python 3",
      "name": "python3"
    },
    "language_info": {
      "codemirror_mode": {
        "name": "ipython",
        "version": 3
      },
      "file_extension": ".py",
      "mimetype": "text/x-python",
      "name": "python",
      "nbconvert_exporter": "python",
      "pygments_lexer": "ipython3",
      "version": "3.7.1"
    },
    "widgets": {
      "application/vnd.jupyter.widget-state+json": {
        "7bb38e6e40604adabed4ae4377ec3449": {
          "model_module": "@jupyter-widgets/controls",
          "model_name": "HBoxModel",
          "model_module_version": "1.5.0",
          "state": {
            "_dom_classes": [],
            "_model_module": "@jupyter-widgets/controls",
            "_model_module_version": "1.5.0",
            "_model_name": "HBoxModel",
            "_view_count": null,
            "_view_module": "@jupyter-widgets/controls",
            "_view_module_version": "1.5.0",
            "_view_name": "HBoxView",
            "box_style": "",
            "children": [
              "IPY_MODEL_6f19392a09034ab5aa812f592c4047e8",
              "IPY_MODEL_57e9799113564a24accf72bda3970bee",
              "IPY_MODEL_2830409736a1448eaeff2d5fc14078bc"
            ],
            "layout": "IPY_MODEL_77f940725e3440229cfd489c9be35343"
          }
        },
        "6f19392a09034ab5aa812f592c4047e8": {
          "model_module": "@jupyter-widgets/controls",
          "model_name": "HTMLModel",
          "model_module_version": "1.5.0",
          "state": {
            "_dom_classes": [],
            "_model_module": "@jupyter-widgets/controls",
            "_model_module_version": "1.5.0",
            "_model_name": "HTMLModel",
            "_view_count": null,
            "_view_module": "@jupyter-widgets/controls",
            "_view_module_version": "1.5.0",
            "_view_name": "HTMLView",
            "description": "",
            "description_tooltip": null,
            "layout": "IPY_MODEL_4beee923b95547ac876b5e98b1a11683",
            "placeholder": "​",
            "style": "IPY_MODEL_6cd61e0cf4b04c2694fe6108c0e1ada6",
            "value": "Map: 100%"
          }
        },
        "57e9799113564a24accf72bda3970bee": {
          "model_module": "@jupyter-widgets/controls",
          "model_name": "FloatProgressModel",
          "model_module_version": "1.5.0",
          "state": {
            "_dom_classes": [],
            "_model_module": "@jupyter-widgets/controls",
            "_model_module_version": "1.5.0",
            "_model_name": "FloatProgressModel",
            "_view_count": null,
            "_view_module": "@jupyter-widgets/controls",
            "_view_module_version": "1.5.0",
            "_view_name": "ProgressView",
            "bar_style": "success",
            "description": "",
            "description_tooltip": null,
            "layout": "IPY_MODEL_f86dbd5171f643309f46924a4dccc023",
            "max": 849,
            "min": 0,
            "orientation": "horizontal",
            "style": "IPY_MODEL_1e9e47118dc541cfa781bb64bdde88c4",
            "value": 849
          }
        },
        "2830409736a1448eaeff2d5fc14078bc": {
          "model_module": "@jupyter-widgets/controls",
          "model_name": "HTMLModel",
          "model_module_version": "1.5.0",
          "state": {
            "_dom_classes": [],
            "_model_module": "@jupyter-widgets/controls",
            "_model_module_version": "1.5.0",
            "_model_name": "HTMLModel",
            "_view_count": null,
            "_view_module": "@jupyter-widgets/controls",
            "_view_module_version": "1.5.0",
            "_view_name": "HTMLView",
            "description": "",
            "description_tooltip": null,
            "layout": "IPY_MODEL_242fa8594fca4b8b8b2f0d40b836a43f",
            "placeholder": "​",
            "style": "IPY_MODEL_61e433e3ef3c4451b79d7dd24a24e50a",
            "value": " 849/849 [00:01&lt;00:00, 554.84 examples/s]"
          }
        },
        "77f940725e3440229cfd489c9be35343": {
          "model_module": "@jupyter-widgets/base",
          "model_name": "LayoutModel",
          "model_module_version": "1.2.0",
          "state": {
            "_model_module": "@jupyter-widgets/base",
            "_model_module_version": "1.2.0",
            "_model_name": "LayoutModel",
            "_view_count": null,
            "_view_module": "@jupyter-widgets/base",
            "_view_module_version": "1.2.0",
            "_view_name": "LayoutView",
            "align_content": null,
            "align_items": null,
            "align_self": null,
            "border": null,
            "bottom": null,
            "display": null,
            "flex": null,
            "flex_flow": null,
            "grid_area": null,
            "grid_auto_columns": null,
            "grid_auto_flow": null,
            "grid_auto_rows": null,
            "grid_column": null,
            "grid_gap": null,
            "grid_row": null,
            "grid_template_areas": null,
            "grid_template_columns": null,
            "grid_template_rows": null,
            "height": null,
            "justify_content": null,
            "justify_items": null,
            "left": null,
            "margin": null,
            "max_height": null,
            "max_width": null,
            "min_height": null,
            "min_width": null,
            "object_fit": null,
            "object_position": null,
            "order": null,
            "overflow": null,
            "overflow_x": null,
            "overflow_y": null,
            "padding": null,
            "right": null,
            "top": null,
            "visibility": null,
            "width": null
          }
        },
        "4beee923b95547ac876b5e98b1a11683": {
          "model_module": "@jupyter-widgets/base",
          "model_name": "LayoutModel",
          "model_module_version": "1.2.0",
          "state": {
            "_model_module": "@jupyter-widgets/base",
            "_model_module_version": "1.2.0",
            "_model_name": "LayoutModel",
            "_view_count": null,
            "_view_module": "@jupyter-widgets/base",
            "_view_module_version": "1.2.0",
            "_view_name": "LayoutView",
            "align_content": null,
            "align_items": null,
            "align_self": null,
            "border": null,
            "bottom": null,
            "display": null,
            "flex": null,
            "flex_flow": null,
            "grid_area": null,
            "grid_auto_columns": null,
            "grid_auto_flow": null,
            "grid_auto_rows": null,
            "grid_column": null,
            "grid_gap": null,
            "grid_row": null,
            "grid_template_areas": null,
            "grid_template_columns": null,
            "grid_template_rows": null,
            "height": null,
            "justify_content": null,
            "justify_items": null,
            "left": null,
            "margin": null,
            "max_height": null,
            "max_width": null,
            "min_height": null,
            "min_width": null,
            "object_fit": null,
            "object_position": null,
            "order": null,
            "overflow": null,
            "overflow_x": null,
            "overflow_y": null,
            "padding": null,
            "right": null,
            "top": null,
            "visibility": null,
            "width": null
          }
        },
        "6cd61e0cf4b04c2694fe6108c0e1ada6": {
          "model_module": "@jupyter-widgets/controls",
          "model_name": "DescriptionStyleModel",
          "model_module_version": "1.5.0",
          "state": {
            "_model_module": "@jupyter-widgets/controls",
            "_model_module_version": "1.5.0",
            "_model_name": "DescriptionStyleModel",
            "_view_count": null,
            "_view_module": "@jupyter-widgets/base",
            "_view_module_version": "1.2.0",
            "_view_name": "StyleView",
            "description_width": ""
          }
        },
        "f86dbd5171f643309f46924a4dccc023": {
          "model_module": "@jupyter-widgets/base",
          "model_name": "LayoutModel",
          "model_module_version": "1.2.0",
          "state": {
            "_model_module": "@jupyter-widgets/base",
            "_model_module_version": "1.2.0",
            "_model_name": "LayoutModel",
            "_view_count": null,
            "_view_module": "@jupyter-widgets/base",
            "_view_module_version": "1.2.0",
            "_view_name": "LayoutView",
            "align_content": null,
            "align_items": null,
            "align_self": null,
            "border": null,
            "bottom": null,
            "display": null,
            "flex": null,
            "flex_flow": null,
            "grid_area": null,
            "grid_auto_columns": null,
            "grid_auto_flow": null,
            "grid_auto_rows": null,
            "grid_column": null,
            "grid_gap": null,
            "grid_row": null,
            "grid_template_areas": null,
            "grid_template_columns": null,
            "grid_template_rows": null,
            "height": null,
            "justify_content": null,
            "justify_items": null,
            "left": null,
            "margin": null,
            "max_height": null,
            "max_width": null,
            "min_height": null,
            "min_width": null,
            "object_fit": null,
            "object_position": null,
            "order": null,
            "overflow": null,
            "overflow_x": null,
            "overflow_y": null,
            "padding": null,
            "right": null,
            "top": null,
            "visibility": null,
            "width": null
          }
        },
        "1e9e47118dc541cfa781bb64bdde88c4": {
          "model_module": "@jupyter-widgets/controls",
          "model_name": "ProgressStyleModel",
          "model_module_version": "1.5.0",
          "state": {
            "_model_module": "@jupyter-widgets/controls",
            "_model_module_version": "1.5.0",
            "_model_name": "ProgressStyleModel",
            "_view_count": null,
            "_view_module": "@jupyter-widgets/base",
            "_view_module_version": "1.2.0",
            "_view_name": "StyleView",
            "bar_color": null,
            "description_width": ""
          }
        },
        "242fa8594fca4b8b8b2f0d40b836a43f": {
          "model_module": "@jupyter-widgets/base",
          "model_name": "LayoutModel",
          "model_module_version": "1.2.0",
          "state": {
            "_model_module": "@jupyter-widgets/base",
            "_model_module_version": "1.2.0",
            "_model_name": "LayoutModel",
            "_view_count": null,
            "_view_module": "@jupyter-widgets/base",
            "_view_module_version": "1.2.0",
            "_view_name": "LayoutView",
            "align_content": null,
            "align_items": null,
            "align_self": null,
            "border": null,
            "bottom": null,
            "display": null,
            "flex": null,
            "flex_flow": null,
            "grid_area": null,
            "grid_auto_columns": null,
            "grid_auto_flow": null,
            "grid_auto_rows": null,
            "grid_column": null,
            "grid_gap": null,
            "grid_row": null,
            "grid_template_areas": null,
            "grid_template_columns": null,
            "grid_template_rows": null,
            "height": null,
            "justify_content": null,
            "justify_items": null,
            "left": null,
            "margin": null,
            "max_height": null,
            "max_width": null,
            "min_height": null,
            "min_width": null,
            "object_fit": null,
            "object_position": null,
            "order": null,
            "overflow": null,
            "overflow_x": null,
            "overflow_y": null,
            "padding": null,
            "right": null,
            "top": null,
            "visibility": null,
            "width": null
          }
        },
        "61e433e3ef3c4451b79d7dd24a24e50a": {
          "model_module": "@jupyter-widgets/controls",
          "model_name": "DescriptionStyleModel",
          "model_module_version": "1.5.0",
          "state": {
            "_model_module": "@jupyter-widgets/controls",
            "_model_module_version": "1.5.0",
            "_model_name": "DescriptionStyleModel",
            "_view_count": null,
            "_view_module": "@jupyter-widgets/base",
            "_view_module_version": "1.2.0",
            "_view_name": "StyleView",
            "description_width": ""
          }
        },
        "361f75e6b9cf46b4806fc7c334311297": {
          "model_module": "@jupyter-widgets/controls",
          "model_name": "HBoxModel",
          "model_module_version": "1.5.0",
          "state": {
            "_dom_classes": [],
            "_model_module": "@jupyter-widgets/controls",
            "_model_module_version": "1.5.0",
            "_model_name": "HBoxModel",
            "_view_count": null,
            "_view_module": "@jupyter-widgets/controls",
            "_view_module_version": "1.5.0",
            "_view_name": "HBoxView",
            "box_style": "",
            "children": [
              "IPY_MODEL_5aa28bd3ca784b96b2ab9cf96cb478df",
              "IPY_MODEL_010b25ee71074101b8421b9670e5c825",
              "IPY_MODEL_98fb9246556743ca9716e7fef9df768c"
            ],
            "layout": "IPY_MODEL_c9af97b290b047a9b3f4d9182a3fa997"
          }
        },
        "5aa28bd3ca784b96b2ab9cf96cb478df": {
          "model_module": "@jupyter-widgets/controls",
          "model_name": "HTMLModel",
          "model_module_version": "1.5.0",
          "state": {
            "_dom_classes": [],
            "_model_module": "@jupyter-widgets/controls",
            "_model_module_version": "1.5.0",
            "_model_name": "HTMLModel",
            "_view_count": null,
            "_view_module": "@jupyter-widgets/controls",
            "_view_module_version": "1.5.0",
            "_view_name": "HTMLView",
            "description": "",
            "description_tooltip": null,
            "layout": "IPY_MODEL_29f2a06ac38b46b888ae6364dd47027b",
            "placeholder": "​",
            "style": "IPY_MODEL_21af7cd9da784e6cad7e47f2f8281f20",
            "value": "Map: 100%"
          }
        },
        "010b25ee71074101b8421b9670e5c825": {
          "model_module": "@jupyter-widgets/controls",
          "model_name": "FloatProgressModel",
          "model_module_version": "1.5.0",
          "state": {
            "_dom_classes": [],
            "_model_module": "@jupyter-widgets/controls",
            "_model_module_version": "1.5.0",
            "_model_name": "FloatProgressModel",
            "_view_count": null,
            "_view_module": "@jupyter-widgets/controls",
            "_view_module_version": "1.5.0",
            "_view_name": "ProgressView",
            "bar_style": "success",
            "description": "",
            "description_tooltip": null,
            "layout": "IPY_MODEL_e78ddad48e6d40cc975547c845030881",
            "max": 284,
            "min": 0,
            "orientation": "horizontal",
            "style": "IPY_MODEL_68a4adcac18d42daa4cf824d1ee056db",
            "value": 284
          }
        },
        "98fb9246556743ca9716e7fef9df768c": {
          "model_module": "@jupyter-widgets/controls",
          "model_name": "HTMLModel",
          "model_module_version": "1.5.0",
          "state": {
            "_dom_classes": [],
            "_model_module": "@jupyter-widgets/controls",
            "_model_module_version": "1.5.0",
            "_model_name": "HTMLModel",
            "_view_count": null,
            "_view_module": "@jupyter-widgets/controls",
            "_view_module_version": "1.5.0",
            "_view_name": "HTMLView",
            "description": "",
            "description_tooltip": null,
            "layout": "IPY_MODEL_94cb3e12195145c0876855b8a41b5ce8",
            "placeholder": "​",
            "style": "IPY_MODEL_ce9f6150cd934a7abc588ff91e234b09",
            "value": " 284/284 [00:00&lt;00:00, 539.04 examples/s]"
          }
        },
        "c9af97b290b047a9b3f4d9182a3fa997": {
          "model_module": "@jupyter-widgets/base",
          "model_name": "LayoutModel",
          "model_module_version": "1.2.0",
          "state": {
            "_model_module": "@jupyter-widgets/base",
            "_model_module_version": "1.2.0",
            "_model_name": "LayoutModel",
            "_view_count": null,
            "_view_module": "@jupyter-widgets/base",
            "_view_module_version": "1.2.0",
            "_view_name": "LayoutView",
            "align_content": null,
            "align_items": null,
            "align_self": null,
            "border": null,
            "bottom": null,
            "display": null,
            "flex": null,
            "flex_flow": null,
            "grid_area": null,
            "grid_auto_columns": null,
            "grid_auto_flow": null,
            "grid_auto_rows": null,
            "grid_column": null,
            "grid_gap": null,
            "grid_row": null,
            "grid_template_areas": null,
            "grid_template_columns": null,
            "grid_template_rows": null,
            "height": null,
            "justify_content": null,
            "justify_items": null,
            "left": null,
            "margin": null,
            "max_height": null,
            "max_width": null,
            "min_height": null,
            "min_width": null,
            "object_fit": null,
            "object_position": null,
            "order": null,
            "overflow": null,
            "overflow_x": null,
            "overflow_y": null,
            "padding": null,
            "right": null,
            "top": null,
            "visibility": null,
            "width": null
          }
        },
        "29f2a06ac38b46b888ae6364dd47027b": {
          "model_module": "@jupyter-widgets/base",
          "model_name": "LayoutModel",
          "model_module_version": "1.2.0",
          "state": {
            "_model_module": "@jupyter-widgets/base",
            "_model_module_version": "1.2.0",
            "_model_name": "LayoutModel",
            "_view_count": null,
            "_view_module": "@jupyter-widgets/base",
            "_view_module_version": "1.2.0",
            "_view_name": "LayoutView",
            "align_content": null,
            "align_items": null,
            "align_self": null,
            "border": null,
            "bottom": null,
            "display": null,
            "flex": null,
            "flex_flow": null,
            "grid_area": null,
            "grid_auto_columns": null,
            "grid_auto_flow": null,
            "grid_auto_rows": null,
            "grid_column": null,
            "grid_gap": null,
            "grid_row": null,
            "grid_template_areas": null,
            "grid_template_columns": null,
            "grid_template_rows": null,
            "height": null,
            "justify_content": null,
            "justify_items": null,
            "left": null,
            "margin": null,
            "max_height": null,
            "max_width": null,
            "min_height": null,
            "min_width": null,
            "object_fit": null,
            "object_position": null,
            "order": null,
            "overflow": null,
            "overflow_x": null,
            "overflow_y": null,
            "padding": null,
            "right": null,
            "top": null,
            "visibility": null,
            "width": null
          }
        },
        "21af7cd9da784e6cad7e47f2f8281f20": {
          "model_module": "@jupyter-widgets/controls",
          "model_name": "DescriptionStyleModel",
          "model_module_version": "1.5.0",
          "state": {
            "_model_module": "@jupyter-widgets/controls",
            "_model_module_version": "1.5.0",
            "_model_name": "DescriptionStyleModel",
            "_view_count": null,
            "_view_module": "@jupyter-widgets/base",
            "_view_module_version": "1.2.0",
            "_view_name": "StyleView",
            "description_width": ""
          }
        },
        "e78ddad48e6d40cc975547c845030881": {
          "model_module": "@jupyter-widgets/base",
          "model_name": "LayoutModel",
          "model_module_version": "1.2.0",
          "state": {
            "_model_module": "@jupyter-widgets/base",
            "_model_module_version": "1.2.0",
            "_model_name": "LayoutModel",
            "_view_count": null,
            "_view_module": "@jupyter-widgets/base",
            "_view_module_version": "1.2.0",
            "_view_name": "LayoutView",
            "align_content": null,
            "align_items": null,
            "align_self": null,
            "border": null,
            "bottom": null,
            "display": null,
            "flex": null,
            "flex_flow": null,
            "grid_area": null,
            "grid_auto_columns": null,
            "grid_auto_flow": null,
            "grid_auto_rows": null,
            "grid_column": null,
            "grid_gap": null,
            "grid_row": null,
            "grid_template_areas": null,
            "grid_template_columns": null,
            "grid_template_rows": null,
            "height": null,
            "justify_content": null,
            "justify_items": null,
            "left": null,
            "margin": null,
            "max_height": null,
            "max_width": null,
            "min_height": null,
            "min_width": null,
            "object_fit": null,
            "object_position": null,
            "order": null,
            "overflow": null,
            "overflow_x": null,
            "overflow_y": null,
            "padding": null,
            "right": null,
            "top": null,
            "visibility": null,
            "width": null
          }
        },
        "68a4adcac18d42daa4cf824d1ee056db": {
          "model_module": "@jupyter-widgets/controls",
          "model_name": "ProgressStyleModel",
          "model_module_version": "1.5.0",
          "state": {
            "_model_module": "@jupyter-widgets/controls",
            "_model_module_version": "1.5.0",
            "_model_name": "ProgressStyleModel",
            "_view_count": null,
            "_view_module": "@jupyter-widgets/base",
            "_view_module_version": "1.2.0",
            "_view_name": "StyleView",
            "bar_color": null,
            "description_width": ""
          }
        },
        "94cb3e12195145c0876855b8a41b5ce8": {
          "model_module": "@jupyter-widgets/base",
          "model_name": "LayoutModel",
          "model_module_version": "1.2.0",
          "state": {
            "_model_module": "@jupyter-widgets/base",
            "_model_module_version": "1.2.0",
            "_model_name": "LayoutModel",
            "_view_count": null,
            "_view_module": "@jupyter-widgets/base",
            "_view_module_version": "1.2.0",
            "_view_name": "LayoutView",
            "align_content": null,
            "align_items": null,
            "align_self": null,
            "border": null,
            "bottom": null,
            "display": null,
            "flex": null,
            "flex_flow": null,
            "grid_area": null,
            "grid_auto_columns": null,
            "grid_auto_flow": null,
            "grid_auto_rows": null,
            "grid_column": null,
            "grid_gap": null,
            "grid_row": null,
            "grid_template_areas": null,
            "grid_template_columns": null,
            "grid_template_rows": null,
            "height": null,
            "justify_content": null,
            "justify_items": null,
            "left": null,
            "margin": null,
            "max_height": null,
            "max_width": null,
            "min_height": null,
            "min_width": null,
            "object_fit": null,
            "object_position": null,
            "order": null,
            "overflow": null,
            "overflow_x": null,
            "overflow_y": null,
            "padding": null,
            "right": null,
            "top": null,
            "visibility": null,
            "width": null
          }
        },
        "ce9f6150cd934a7abc588ff91e234b09": {
          "model_module": "@jupyter-widgets/controls",
          "model_name": "DescriptionStyleModel",
          "model_module_version": "1.5.0",
          "state": {
            "_model_module": "@jupyter-widgets/controls",
            "_model_module_version": "1.5.0",
            "_model_name": "DescriptionStyleModel",
            "_view_count": null,
            "_view_module": "@jupyter-widgets/base",
            "_view_module_version": "1.2.0",
            "_view_name": "StyleView",
            "description_width": ""
          }
        },
        "c9b0af8299fa4a37afd5840f453a1426": {
          "model_module": "@jupyter-widgets/controls",
          "model_name": "HBoxModel",
          "model_module_version": "1.5.0",
          "state": {
            "_dom_classes": [],
            "_model_module": "@jupyter-widgets/controls",
            "_model_module_version": "1.5.0",
            "_model_name": "HBoxModel",
            "_view_count": null,
            "_view_module": "@jupyter-widgets/controls",
            "_view_module_version": "1.5.0",
            "_view_name": "HBoxView",
            "box_style": "",
            "children": [
              "IPY_MODEL_254ed2a4b9404928a21e5e500ff73385",
              "IPY_MODEL_cc54af049d504bfd9b1dfd1140845ad6",
              "IPY_MODEL_a0dfb0ea9c25429c85c9642cd3f9fd35"
            ],
            "layout": "IPY_MODEL_9c1c6062953440a79835393c656606aa"
          }
        },
        "254ed2a4b9404928a21e5e500ff73385": {
          "model_module": "@jupyter-widgets/controls",
          "model_name": "HTMLModel",
          "model_module_version": "1.5.0",
          "state": {
            "_dom_classes": [],
            "_model_module": "@jupyter-widgets/controls",
            "_model_module_version": "1.5.0",
            "_model_name": "HTMLModel",
            "_view_count": null,
            "_view_module": "@jupyter-widgets/controls",
            "_view_module_version": "1.5.0",
            "_view_name": "HTMLView",
            "description": "",
            "description_tooltip": null,
            "layout": "IPY_MODEL_145516735e0048ae8bc6f96e59d951bc",
            "placeholder": "​",
            "style": "IPY_MODEL_4195feceb3c94ca3a2a4234d4dec5f72",
            "value": "Map: 100%"
          }
        },
        "cc54af049d504bfd9b1dfd1140845ad6": {
          "model_module": "@jupyter-widgets/controls",
          "model_name": "FloatProgressModel",
          "model_module_version": "1.5.0",
          "state": {
            "_dom_classes": [],
            "_model_module": "@jupyter-widgets/controls",
            "_model_module_version": "1.5.0",
            "_model_name": "FloatProgressModel",
            "_view_count": null,
            "_view_module": "@jupyter-widgets/controls",
            "_view_module_version": "1.5.0",
            "_view_name": "ProgressView",
            "bar_style": "success",
            "description": "",
            "description_tooltip": null,
            "layout": "IPY_MODEL_482011bf2c514146bc83652e39c4ba1c",
            "max": 849,
            "min": 0,
            "orientation": "horizontal",
            "style": "IPY_MODEL_1e817511dfa240bf9c79f9a985efb809",
            "value": 849
          }
        },
        "a0dfb0ea9c25429c85c9642cd3f9fd35": {
          "model_module": "@jupyter-widgets/controls",
          "model_name": "HTMLModel",
          "model_module_version": "1.5.0",
          "state": {
            "_dom_classes": [],
            "_model_module": "@jupyter-widgets/controls",
            "_model_module_version": "1.5.0",
            "_model_name": "HTMLModel",
            "_view_count": null,
            "_view_module": "@jupyter-widgets/controls",
            "_view_module_version": "1.5.0",
            "_view_name": "HTMLView",
            "description": "",
            "description_tooltip": null,
            "layout": "IPY_MODEL_380f00b2613342ff962ae638bf1e03f7",
            "placeholder": "​",
            "style": "IPY_MODEL_b0d1b28f38c14c8c977b1a606f1526ca",
            "value": " 849/849 [00:00&lt;00:00, 3681.77 examples/s]"
          }
        },
        "9c1c6062953440a79835393c656606aa": {
          "model_module": "@jupyter-widgets/base",
          "model_name": "LayoutModel",
          "model_module_version": "1.2.0",
          "state": {
            "_model_module": "@jupyter-widgets/base",
            "_model_module_version": "1.2.0",
            "_model_name": "LayoutModel",
            "_view_count": null,
            "_view_module": "@jupyter-widgets/base",
            "_view_module_version": "1.2.0",
            "_view_name": "LayoutView",
            "align_content": null,
            "align_items": null,
            "align_self": null,
            "border": null,
            "bottom": null,
            "display": null,
            "flex": null,
            "flex_flow": null,
            "grid_area": null,
            "grid_auto_columns": null,
            "grid_auto_flow": null,
            "grid_auto_rows": null,
            "grid_column": null,
            "grid_gap": null,
            "grid_row": null,
            "grid_template_areas": null,
            "grid_template_columns": null,
            "grid_template_rows": null,
            "height": null,
            "justify_content": null,
            "justify_items": null,
            "left": null,
            "margin": null,
            "max_height": null,
            "max_width": null,
            "min_height": null,
            "min_width": null,
            "object_fit": null,
            "object_position": null,
            "order": null,
            "overflow": null,
            "overflow_x": null,
            "overflow_y": null,
            "padding": null,
            "right": null,
            "top": null,
            "visibility": null,
            "width": null
          }
        },
        "145516735e0048ae8bc6f96e59d951bc": {
          "model_module": "@jupyter-widgets/base",
          "model_name": "LayoutModel",
          "model_module_version": "1.2.0",
          "state": {
            "_model_module": "@jupyter-widgets/base",
            "_model_module_version": "1.2.0",
            "_model_name": "LayoutModel",
            "_view_count": null,
            "_view_module": "@jupyter-widgets/base",
            "_view_module_version": "1.2.0",
            "_view_name": "LayoutView",
            "align_content": null,
            "align_items": null,
            "align_self": null,
            "border": null,
            "bottom": null,
            "display": null,
            "flex": null,
            "flex_flow": null,
            "grid_area": null,
            "grid_auto_columns": null,
            "grid_auto_flow": null,
            "grid_auto_rows": null,
            "grid_column": null,
            "grid_gap": null,
            "grid_row": null,
            "grid_template_areas": null,
            "grid_template_columns": null,
            "grid_template_rows": null,
            "height": null,
            "justify_content": null,
            "justify_items": null,
            "left": null,
            "margin": null,
            "max_height": null,
            "max_width": null,
            "min_height": null,
            "min_width": null,
            "object_fit": null,
            "object_position": null,
            "order": null,
            "overflow": null,
            "overflow_x": null,
            "overflow_y": null,
            "padding": null,
            "right": null,
            "top": null,
            "visibility": null,
            "width": null
          }
        },
        "4195feceb3c94ca3a2a4234d4dec5f72": {
          "model_module": "@jupyter-widgets/controls",
          "model_name": "DescriptionStyleModel",
          "model_module_version": "1.5.0",
          "state": {
            "_model_module": "@jupyter-widgets/controls",
            "_model_module_version": "1.5.0",
            "_model_name": "DescriptionStyleModel",
            "_view_count": null,
            "_view_module": "@jupyter-widgets/base",
            "_view_module_version": "1.2.0",
            "_view_name": "StyleView",
            "description_width": ""
          }
        },
        "482011bf2c514146bc83652e39c4ba1c": {
          "model_module": "@jupyter-widgets/base",
          "model_name": "LayoutModel",
          "model_module_version": "1.2.0",
          "state": {
            "_model_module": "@jupyter-widgets/base",
            "_model_module_version": "1.2.0",
            "_model_name": "LayoutModel",
            "_view_count": null,
            "_view_module": "@jupyter-widgets/base",
            "_view_module_version": "1.2.0",
            "_view_name": "LayoutView",
            "align_content": null,
            "align_items": null,
            "align_self": null,
            "border": null,
            "bottom": null,
            "display": null,
            "flex": null,
            "flex_flow": null,
            "grid_area": null,
            "grid_auto_columns": null,
            "grid_auto_flow": null,
            "grid_auto_rows": null,
            "grid_column": null,
            "grid_gap": null,
            "grid_row": null,
            "grid_template_areas": null,
            "grid_template_columns": null,
            "grid_template_rows": null,
            "height": null,
            "justify_content": null,
            "justify_items": null,
            "left": null,
            "margin": null,
            "max_height": null,
            "max_width": null,
            "min_height": null,
            "min_width": null,
            "object_fit": null,
            "object_position": null,
            "order": null,
            "overflow": null,
            "overflow_x": null,
            "overflow_y": null,
            "padding": null,
            "right": null,
            "top": null,
            "visibility": null,
            "width": null
          }
        },
        "1e817511dfa240bf9c79f9a985efb809": {
          "model_module": "@jupyter-widgets/controls",
          "model_name": "ProgressStyleModel",
          "model_module_version": "1.5.0",
          "state": {
            "_model_module": "@jupyter-widgets/controls",
            "_model_module_version": "1.5.0",
            "_model_name": "ProgressStyleModel",
            "_view_count": null,
            "_view_module": "@jupyter-widgets/base",
            "_view_module_version": "1.2.0",
            "_view_name": "StyleView",
            "bar_color": null,
            "description_width": ""
          }
        },
        "380f00b2613342ff962ae638bf1e03f7": {
          "model_module": "@jupyter-widgets/base",
          "model_name": "LayoutModel",
          "model_module_version": "1.2.0",
          "state": {
            "_model_module": "@jupyter-widgets/base",
            "_model_module_version": "1.2.0",
            "_model_name": "LayoutModel",
            "_view_count": null,
            "_view_module": "@jupyter-widgets/base",
            "_view_module_version": "1.2.0",
            "_view_name": "LayoutView",
            "align_content": null,
            "align_items": null,
            "align_self": null,
            "border": null,
            "bottom": null,
            "display": null,
            "flex": null,
            "flex_flow": null,
            "grid_area": null,
            "grid_auto_columns": null,
            "grid_auto_flow": null,
            "grid_auto_rows": null,
            "grid_column": null,
            "grid_gap": null,
            "grid_row": null,
            "grid_template_areas": null,
            "grid_template_columns": null,
            "grid_template_rows": null,
            "height": null,
            "justify_content": null,
            "justify_items": null,
            "left": null,
            "margin": null,
            "max_height": null,
            "max_width": null,
            "min_height": null,
            "min_width": null,
            "object_fit": null,
            "object_position": null,
            "order": null,
            "overflow": null,
            "overflow_x": null,
            "overflow_y": null,
            "padding": null,
            "right": null,
            "top": null,
            "visibility": null,
            "width": null
          }
        },
        "b0d1b28f38c14c8c977b1a606f1526ca": {
          "model_module": "@jupyter-widgets/controls",
          "model_name": "DescriptionStyleModel",
          "model_module_version": "1.5.0",
          "state": {
            "_model_module": "@jupyter-widgets/controls",
            "_model_module_version": "1.5.0",
            "_model_name": "DescriptionStyleModel",
            "_view_count": null,
            "_view_module": "@jupyter-widgets/base",
            "_view_module_version": "1.2.0",
            "_view_name": "StyleView",
            "description_width": ""
          }
        },
        "0e715619c72a45fe9ba99c5cf0fd5ac4": {
          "model_module": "@jupyter-widgets/controls",
          "model_name": "HBoxModel",
          "model_module_version": "1.5.0",
          "state": {
            "_dom_classes": [],
            "_model_module": "@jupyter-widgets/controls",
            "_model_module_version": "1.5.0",
            "_model_name": "HBoxModel",
            "_view_count": null,
            "_view_module": "@jupyter-widgets/controls",
            "_view_module_version": "1.5.0",
            "_view_name": "HBoxView",
            "box_style": "",
            "children": [
              "IPY_MODEL_a913c182999747d9aa44a6f2e80796b3",
              "IPY_MODEL_f6a036b8b893489c903d7967f44ba661",
              "IPY_MODEL_e7fc90e9f31f462bb668089b1e828c33"
            ],
            "layout": "IPY_MODEL_e794f5e7b98c46a0b1611b73a859a005"
          }
        },
        "a913c182999747d9aa44a6f2e80796b3": {
          "model_module": "@jupyter-widgets/controls",
          "model_name": "HTMLModel",
          "model_module_version": "1.5.0",
          "state": {
            "_dom_classes": [],
            "_model_module": "@jupyter-widgets/controls",
            "_model_module_version": "1.5.0",
            "_model_name": "HTMLModel",
            "_view_count": null,
            "_view_module": "@jupyter-widgets/controls",
            "_view_module_version": "1.5.0",
            "_view_name": "HTMLView",
            "description": "",
            "description_tooltip": null,
            "layout": "IPY_MODEL_ceed7738fc814eaba87ac838c21f7fa6",
            "placeholder": "​",
            "style": "IPY_MODEL_544eeda49ab749f0a795889f953e3327",
            "value": "Map: 100%"
          }
        },
        "f6a036b8b893489c903d7967f44ba661": {
          "model_module": "@jupyter-widgets/controls",
          "model_name": "FloatProgressModel",
          "model_module_version": "1.5.0",
          "state": {
            "_dom_classes": [],
            "_model_module": "@jupyter-widgets/controls",
            "_model_module_version": "1.5.0",
            "_model_name": "FloatProgressModel",
            "_view_count": null,
            "_view_module": "@jupyter-widgets/controls",
            "_view_module_version": "1.5.0",
            "_view_name": "ProgressView",
            "bar_style": "success",
            "description": "",
            "description_tooltip": null,
            "layout": "IPY_MODEL_acc138545a794dc4a08cc0b556584b1e",
            "max": 284,
            "min": 0,
            "orientation": "horizontal",
            "style": "IPY_MODEL_a771bedf508a4522abb2d4e5c162ec06",
            "value": 284
          }
        },
        "e7fc90e9f31f462bb668089b1e828c33": {
          "model_module": "@jupyter-widgets/controls",
          "model_name": "HTMLModel",
          "model_module_version": "1.5.0",
          "state": {
            "_dom_classes": [],
            "_model_module": "@jupyter-widgets/controls",
            "_model_module_version": "1.5.0",
            "_model_name": "HTMLModel",
            "_view_count": null,
            "_view_module": "@jupyter-widgets/controls",
            "_view_module_version": "1.5.0",
            "_view_name": "HTMLView",
            "description": "",
            "description_tooltip": null,
            "layout": "IPY_MODEL_332426915e9348f6b735083ad8b84c69",
            "placeholder": "​",
            "style": "IPY_MODEL_f690a0cce89b49b4a6654484812fa357",
            "value": " 284/284 [00:00&lt;00:00, 2645.87 examples/s]"
          }
        },
        "e794f5e7b98c46a0b1611b73a859a005": {
          "model_module": "@jupyter-widgets/base",
          "model_name": "LayoutModel",
          "model_module_version": "1.2.0",
          "state": {
            "_model_module": "@jupyter-widgets/base",
            "_model_module_version": "1.2.0",
            "_model_name": "LayoutModel",
            "_view_count": null,
            "_view_module": "@jupyter-widgets/base",
            "_view_module_version": "1.2.0",
            "_view_name": "LayoutView",
            "align_content": null,
            "align_items": null,
            "align_self": null,
            "border": null,
            "bottom": null,
            "display": null,
            "flex": null,
            "flex_flow": null,
            "grid_area": null,
            "grid_auto_columns": null,
            "grid_auto_flow": null,
            "grid_auto_rows": null,
            "grid_column": null,
            "grid_gap": null,
            "grid_row": null,
            "grid_template_areas": null,
            "grid_template_columns": null,
            "grid_template_rows": null,
            "height": null,
            "justify_content": null,
            "justify_items": null,
            "left": null,
            "margin": null,
            "max_height": null,
            "max_width": null,
            "min_height": null,
            "min_width": null,
            "object_fit": null,
            "object_position": null,
            "order": null,
            "overflow": null,
            "overflow_x": null,
            "overflow_y": null,
            "padding": null,
            "right": null,
            "top": null,
            "visibility": null,
            "width": null
          }
        },
        "ceed7738fc814eaba87ac838c21f7fa6": {
          "model_module": "@jupyter-widgets/base",
          "model_name": "LayoutModel",
          "model_module_version": "1.2.0",
          "state": {
            "_model_module": "@jupyter-widgets/base",
            "_model_module_version": "1.2.0",
            "_model_name": "LayoutModel",
            "_view_count": null,
            "_view_module": "@jupyter-widgets/base",
            "_view_module_version": "1.2.0",
            "_view_name": "LayoutView",
            "align_content": null,
            "align_items": null,
            "align_self": null,
            "border": null,
            "bottom": null,
            "display": null,
            "flex": null,
            "flex_flow": null,
            "grid_area": null,
            "grid_auto_columns": null,
            "grid_auto_flow": null,
            "grid_auto_rows": null,
            "grid_column": null,
            "grid_gap": null,
            "grid_row": null,
            "grid_template_areas": null,
            "grid_template_columns": null,
            "grid_template_rows": null,
            "height": null,
            "justify_content": null,
            "justify_items": null,
            "left": null,
            "margin": null,
            "max_height": null,
            "max_width": null,
            "min_height": null,
            "min_width": null,
            "object_fit": null,
            "object_position": null,
            "order": null,
            "overflow": null,
            "overflow_x": null,
            "overflow_y": null,
            "padding": null,
            "right": null,
            "top": null,
            "visibility": null,
            "width": null
          }
        },
        "544eeda49ab749f0a795889f953e3327": {
          "model_module": "@jupyter-widgets/controls",
          "model_name": "DescriptionStyleModel",
          "model_module_version": "1.5.0",
          "state": {
            "_model_module": "@jupyter-widgets/controls",
            "_model_module_version": "1.5.0",
            "_model_name": "DescriptionStyleModel",
            "_view_count": null,
            "_view_module": "@jupyter-widgets/base",
            "_view_module_version": "1.2.0",
            "_view_name": "StyleView",
            "description_width": ""
          }
        },
        "acc138545a794dc4a08cc0b556584b1e": {
          "model_module": "@jupyter-widgets/base",
          "model_name": "LayoutModel",
          "model_module_version": "1.2.0",
          "state": {
            "_model_module": "@jupyter-widgets/base",
            "_model_module_version": "1.2.0",
            "_model_name": "LayoutModel",
            "_view_count": null,
            "_view_module": "@jupyter-widgets/base",
            "_view_module_version": "1.2.0",
            "_view_name": "LayoutView",
            "align_content": null,
            "align_items": null,
            "align_self": null,
            "border": null,
            "bottom": null,
            "display": null,
            "flex": null,
            "flex_flow": null,
            "grid_area": null,
            "grid_auto_columns": null,
            "grid_auto_flow": null,
            "grid_auto_rows": null,
            "grid_column": null,
            "grid_gap": null,
            "grid_row": null,
            "grid_template_areas": null,
            "grid_template_columns": null,
            "grid_template_rows": null,
            "height": null,
            "justify_content": null,
            "justify_items": null,
            "left": null,
            "margin": null,
            "max_height": null,
            "max_width": null,
            "min_height": null,
            "min_width": null,
            "object_fit": null,
            "object_position": null,
            "order": null,
            "overflow": null,
            "overflow_x": null,
            "overflow_y": null,
            "padding": null,
            "right": null,
            "top": null,
            "visibility": null,
            "width": null
          }
        },
        "a771bedf508a4522abb2d4e5c162ec06": {
          "model_module": "@jupyter-widgets/controls",
          "model_name": "ProgressStyleModel",
          "model_module_version": "1.5.0",
          "state": {
            "_model_module": "@jupyter-widgets/controls",
            "_model_module_version": "1.5.0",
            "_model_name": "ProgressStyleModel",
            "_view_count": null,
            "_view_module": "@jupyter-widgets/base",
            "_view_module_version": "1.2.0",
            "_view_name": "StyleView",
            "bar_color": null,
            "description_width": ""
          }
        },
        "332426915e9348f6b735083ad8b84c69": {
          "model_module": "@jupyter-widgets/base",
          "model_name": "LayoutModel",
          "model_module_version": "1.2.0",
          "state": {
            "_model_module": "@jupyter-widgets/base",
            "_model_module_version": "1.2.0",
            "_model_name": "LayoutModel",
            "_view_count": null,
            "_view_module": "@jupyter-widgets/base",
            "_view_module_version": "1.2.0",
            "_view_name": "LayoutView",
            "align_content": null,
            "align_items": null,
            "align_self": null,
            "border": null,
            "bottom": null,
            "display": null,
            "flex": null,
            "flex_flow": null,
            "grid_area": null,
            "grid_auto_columns": null,
            "grid_auto_flow": null,
            "grid_auto_rows": null,
            "grid_column": null,
            "grid_gap": null,
            "grid_row": null,
            "grid_template_areas": null,
            "grid_template_columns": null,
            "grid_template_rows": null,
            "height": null,
            "justify_content": null,
            "justify_items": null,
            "left": null,
            "margin": null,
            "max_height": null,
            "max_width": null,
            "min_height": null,
            "min_width": null,
            "object_fit": null,
            "object_position": null,
            "order": null,
            "overflow": null,
            "overflow_x": null,
            "overflow_y": null,
            "padding": null,
            "right": null,
            "top": null,
            "visibility": null,
            "width": null
          }
        },
        "f690a0cce89b49b4a6654484812fa357": {
          "model_module": "@jupyter-widgets/controls",
          "model_name": "DescriptionStyleModel",
          "model_module_version": "1.5.0",
          "state": {
            "_model_module": "@jupyter-widgets/controls",
            "_model_module_version": "1.5.0",
            "_model_name": "DescriptionStyleModel",
            "_view_count": null,
            "_view_module": "@jupyter-widgets/base",
            "_view_module_version": "1.2.0",
            "_view_name": "StyleView",
            "description_width": ""
          }
        }
      }
    },
    "accelerator": "GPU"
  },
  "nbformat": 4,
  "nbformat_minor": 0
}